{
 "cells": [
  {
   "cell_type": "code",
   "execution_count": 1,
   "id": "638616fb",
   "metadata": {},
   "outputs": [
    {
     "name": "stderr",
     "output_type": "stream",
     "text": [
      "WARNING: An illegal reflective access operation has occurred\n",
      "WARNING: Illegal reflective access by org.apache.spark.unsafe.Platform (file:/home/ubuntu/spark-3.2.1-bin-hadoop2.7/jars/spark-unsafe_2.12-3.2.1.jar) to constructor java.nio.DirectByteBuffer(long,int)\n",
      "WARNING: Please consider reporting this to the maintainers of org.apache.spark.unsafe.Platform\n",
      "WARNING: Use --illegal-access=warn to enable warnings of further illegal reflective access operations\n",
      "WARNING: All illegal access operations will be denied in a future release\n",
      "Using Spark's default log4j profile: org/apache/spark/log4j-defaults.properties\n",
      "Setting default log level to \"WARN\".\n",
      "To adjust logging level use sc.setLogLevel(newLevel). For SparkR, use setLogLevel(newLevel).\n",
      "23/10/10 08:42:07 WARN NativeCodeLoader: Unable to load native-hadoop library for your platform... using builtin-java classes where applicable\n"
     ]
    }
   ],
   "source": [
    "import findspark\n",
    "findspark.init('/home/ubuntu/spark-3.2.1-bin-hadoop2.7')\n",
    "import pyspark\n",
    "from pyspark.sql import SparkSession\n",
    "spark = SparkSession.builder.appName('BDAS').getOrCreate()"
   ]
  },
  {
   "cell_type": "code",
   "execution_count": 2,
   "id": "3add0265",
   "metadata": {},
   "outputs": [],
   "source": [
    "#BU: Predict what individual values as happiness based on demographic attribute"
   ]
  },
  {
   "cell_type": "code",
   "execution_count": 7,
   "id": "ca4d08e8",
   "metadata": {},
   "outputs": [
    {
     "name": "stderr",
     "output_type": "stream",
     "text": [
      "\r",
      "[Stage 3:=============================>                             (1 + 1) / 2]\r",
      "\r",
      "                                                                                \r"
     ]
    }
   ],
   "source": [
    "#DU\n",
    "#Read in the data\n",
    "df_demog=spark.read.csv('BDAS_Iteration_Dataset/demographic.csv', header=True, inferSchema=True)\n",
    "df_happy=spark.read.csv('BDAS_Iteration_Dataset/cleaned_hm.csv', header=True, inferSchema=True)"
   ]
  },
  {
   "cell_type": "code",
   "execution_count": 8,
   "id": "bb3d7362",
   "metadata": {},
   "outputs": [
    {
     "name": "stdout",
     "output_type": "stream",
     "text": [
      "+---+----+-------+------+--------+----------+\n",
      "|wid| age|country|gender| marital|parenthood|\n",
      "+---+----+-------+------+--------+----------+\n",
      "|  1|37.0|    USA|     m| married|         y|\n",
      "|  2|29.0|    IND|     m| married|         y|\n",
      "|  3|  25|    IND|     m|  single|         n|\n",
      "|  4|  32|    USA|     m| married|         y|\n",
      "|  5|  29|    USA|     m| married|         y|\n",
      "|  6|  35|    IND|     m| married|         y|\n",
      "|  7|  34|    USA|     m| married|         y|\n",
      "|  8|  29|    VNM|     m|  single|         n|\n",
      "|  9|  61|    USA|     f| married|         y|\n",
      "| 10|  27|    USA|     m|  single|         n|\n",
      "| 11|45.0|    USA|     m|divorced|         n|\n",
      "| 12|  25|    USA|     f|  single|         n|\n",
      "| 13|45.0|    IND|     m| married|         y|\n",
      "| 14|25.0|    IND|     m| married|         y|\n",
      "| 15|  27|    USA|     m| married|         y|\n",
      "| 16|35.0|    USA|     m|  single|         n|\n",
      "| 17|30.0|    USA|     m|  single|         n|\n",
      "| 18|  30|    USA|     m|  single|         n|\n",
      "| 19|  29|    USA|     m| married|         n|\n",
      "| 20|  40|    USA|     m| married|         y|\n",
      "+---+----+-------+------+--------+----------+\n",
      "only showing top 20 rows\n",
      "\n",
      "+--------------------+----+-----------------+--------------------+--------------------+--------+------------+---------------------+------------------+\n",
      "|                hmid| wid|reflection_period|         original_hm|          cleaned_hm|modified|num_sentence|ground_truth_category|predicted_category|\n",
      "+--------------------+----+-----------------+--------------------+--------------------+--------+------------+---------------------+------------------+\n",
      "|               27673|2053|              24h|I went on a succe...|I went on a succe...|    True|           1|                 null|         affection|\n",
      "|               27674|   2|              24h|I was happy when ...|I was happy when ...|    True|           1|                 null|         affection|\n",
      "|               27675|1936|              24h|I went to the gym...|I went to the gym...|    True|           1|                 null|          exercise|\n",
      "|               27676| 206|              24h|We had a serious ...|We had a serious ...|    True|           2|              bonding|           bonding|\n",
      "|               27677|6227|              24h|I went with grand...|                null|    null|        null|                 null|              null|\n",
      "|\",\"I went with gr...|null|             null|                null|                null|    null|        null|                 null|              null|\n",
      "|  ,True,1,,affection|null|             null|                null|                null|    null|        null|                 null|              null|\n",
      "|               27678|  45|              24h|I meditated last ...|I meditated last ...|    True|           1|              leisure|           leisure|\n",
      "|               27679| 195|              24h|I made a new reci...|I made a new reci...|    True|           1|                 null|       achievement|\n",
      "|               27680| 740|              24h|I got gift from m...|I got gift from m...|    True|           1|                 null|         affection|\n",
      "|               27681|   3|              24h|YESTERDAY MY MOMS...|YESTERDAY MY MOMS...|    True|           1|                 null|  enjoy_the_moment|\n",
      "|               27682|4833|              24h|Watching cupcake ...|Watching cupcake ...|    True|           1|                 null|         affection|\n",
      "|               27683|7334|              24h|I came in 3rd pla...|I came in 3rd pla...|    True|           1|                 null|           leisure|\n",
      "|               27684|  78|              24h|I completed my 5 ...|I completed my 5 ...|    True|           2|                 null|          exercise|\n",
      "|               27685|  21|              24h|went to movies wi...|went to movies wi...|    True|           1|                 null|           bonding|\n",
      "|               27686|   8|              24h|I was shorting Go...|I was shorting Go...|    True|           1|                 null|       achievement|\n",
      "|               27687| 586|              24h|Hearing Songs It ...|Hearing Songs It ...|   False|           2|                 null|  enjoy_the_moment|\n",
      "|               27688| 489|              24h|My son performed ...|My son performed ...|    True|           1|                 null|         affection|\n",
      "|               27689| 976|              24h|I helped my neigh...|I helped my neigh...|    True|           1|                 null|           bonding|\n",
      "|               27690|3972|              24h|Managed to get th...|Managed to get th...|    True|           1|                 null|       achievement|\n",
      "+--------------------+----+-----------------+--------------------+--------------------+--------+------------+---------------------+------------------+\n",
      "only showing top 20 rows\n",
      "\n"
     ]
    }
   ],
   "source": [
    "df_demog.show()\n",
    "df_happy.show()"
   ]
  },
  {
   "cell_type": "code",
   "execution_count": 5,
   "id": "8a517210",
   "metadata": {},
   "outputs": [
    {
     "name": "stdout",
     "output_type": "stream",
     "text": [
      "+----+------------------+\n",
      "| wid|predicted_category|\n",
      "+----+------------------+\n",
      "|2053|         affection|\n",
      "|   2|         affection|\n",
      "|1936|          exercise|\n",
      "| 206|           bonding|\n",
      "|6227|         affection|\n",
      "|  45|           leisure|\n",
      "| 195|       achievement|\n",
      "| 740|         affection|\n",
      "|   3|  enjoy_the_moment|\n",
      "|4833|         affection|\n",
      "|7334|           leisure|\n",
      "|  78|          exercise|\n",
      "|  21|           bonding|\n",
      "|   8|       achievement|\n",
      "| 586|  enjoy_the_moment|\n",
      "| 489|         affection|\n",
      "| 976|           bonding|\n",
      "|3972|       achievement|\n",
      "|  14|           bonding|\n",
      "|1230|         affection|\n",
      "+----+------------------+\n",
      "only showing top 20 rows\n",
      "\n"
     ]
    }
   ],
   "source": [
    "#Loading modified version of happy moment data set after seeing that the file cannot be properly read by spark\n",
    "df_happy=spark.read.csv('BDAS_Iteration_Dataset/cleaned_hm_01.csv', header=True, inferSchema=True)\n",
    "df_happy.show()"
   ]
  },
  {
   "cell_type": "code",
   "execution_count": 6,
   "id": "1faaff7c",
   "metadata": {},
   "outputs": [
    {
     "name": "stdout",
     "output_type": "stream",
     "text": [
      "root\n",
      " |-- wid: integer (nullable = true)\n",
      " |-- age: string (nullable = true)\n",
      " |-- country: string (nullable = true)\n",
      " |-- gender: string (nullable = true)\n",
      " |-- marital: string (nullable = true)\n",
      " |-- parenthood: string (nullable = true)\n",
      "\n",
      "root\n",
      " |-- wid: integer (nullable = true)\n",
      " |-- predicted_category: string (nullable = true)\n",
      "\n"
     ]
    }
   ],
   "source": [
    "df_demog.printSchema()\n",
    "df_happy.printSchema()"
   ]
  },
  {
   "cell_type": "code",
   "execution_count": 7,
   "id": "8d72ddfe",
   "metadata": {},
   "outputs": [],
   "source": [
    "import pyspark.sql.functions as F"
   ]
  },
  {
   "cell_type": "code",
   "execution_count": 8,
   "id": "59a8a4d0",
   "metadata": {},
   "outputs": [],
   "source": [
    "gender_counts = df_demog.groupBy('gender').count().orderBy('count', ascending=False)"
   ]
  },
  {
   "cell_type": "code",
   "execution_count": 9,
   "id": "febdd78d",
   "metadata": {},
   "outputs": [
    {
     "name": "stdout",
     "output_type": "stream",
     "text": [
      "+------+-----+\n",
      "|gender|count|\n",
      "+------+-----+\n",
      "|     f| 5445|\n",
      "|     m| 5311|\n",
      "|     o|   56|\n",
      "|  null|   32|\n",
      "+------+-----+\n",
      "\n"
     ]
    }
   ],
   "source": [
    "gender_counts.show()"
   ]
  },
  {
   "cell_type": "code",
   "execution_count": 10,
   "id": "377902f0",
   "metadata": {},
   "outputs": [],
   "source": [
    "import pandas as pd\n",
    "import matplotlib.pyplot as plt"
   ]
  },
  {
   "cell_type": "code",
   "execution_count": 11,
   "id": "1a7d0133",
   "metadata": {},
   "outputs": [],
   "source": [
    "# Convert the PySpark DataFrame to a Pandas DataFrame & Create Visualization\n",
    "#gender_counts_pandas = gender_counts.toPandas()\n",
    "#plt.figure(figsize=(8, 6))\n",
    "#plt.bar(gender_counts_pandas['gender'], gender_counts_pandas['count'])\n",
    "#plt.xlabel('Gender')\n",
    "#plt.ylabel('Count')\n",
    "#plt.title('Bar Chart of Gender Distribution')\n",
    "#plt.show()"
   ]
  },
  {
   "cell_type": "code",
   "execution_count": 12,
   "id": "c7225d1a",
   "metadata": {},
   "outputs": [],
   "source": [
    "# Convert the PySpark DataFrame to a Pandas DataFrame\n",
    "gender_counts_pandas = gender_counts.dropna(subset=['gender']).toPandas()"
   ]
  },
  {
   "cell_type": "code",
   "execution_count": 13,
   "id": "790dfc0d",
   "metadata": {},
   "outputs": [
    {
     "data": {
      "image/png": "[encoded data removed]",
      "text/plain": [
       "<Figure size 576x432 with 1 Axes>"
      ]
     },
     "metadata": {
      "needs_background": "light"
     },
     "output_type": "display_data"
    }
   ],
   "source": [
    "# Create a bar chart using Matplotlib\n",
    "plt.figure(figsize=(8, 6))\n",
    "plt.bar(gender_counts_pandas['gender'], gender_counts_pandas['count'])\n",
    "plt.xlabel('Gender')\n",
    "plt.ylabel('Count')\n",
    "plt.title('Bar Chart of Gender Distribution')\n",
    "plt.show()"
   ]
  },
  {
   "cell_type": "code",
   "execution_count": 14,
   "id": "f47bd34b",
   "metadata": {},
   "outputs": [
    {
     "name": "stdout",
     "output_type": "stream",
     "text": [
      "+---+---+-------+------+-------+----------+\n",
      "|wid|age|country|gender|marital|parenthood|\n",
      "+---+---+-------+------+-------+----------+\n",
      "|  0| 35|     73|    32|     57|        31|\n",
      "+---+---+-------+------+-------+----------+\n",
      "\n"
     ]
    }
   ],
   "source": [
    "#Noticing that the visualization cannot be created with the missing value so, the cleaning process has to take place now\n",
    "\n",
    "from pyspark.sql.functions import col\n",
    "\n",
    "# Check for NA responses in df_demog\n",
    "missing_demog = df_demog.select([F.count(F.when(col(c).isNull() | (col(c) == ''), c)).alias(c) for c in df_demog.columns])\n",
    "missing_demog.show()"
   ]
  },
  {
   "cell_type": "code",
   "execution_count": 15,
   "id": "441b26be",
   "metadata": {},
   "outputs": [
    {
     "name": "stdout",
     "output_type": "stream",
     "text": [
      "+---+------------------+\n",
      "|wid|predicted_category|\n",
      "+---+------------------+\n",
      "|  0|                 0|\n",
      "+---+------------------+\n",
      "\n"
     ]
    }
   ],
   "source": [
    "# Check for NA responses in df_happy\n",
    "missing_happy = df_happy.select([F.count(F.when(col(c).isNull() | (col(c) == ''), c)).alias(c) for c in df_happy.columns])\n",
    "missing_happy.show()"
   ]
  },
  {
   "cell_type": "code",
   "execution_count": 16,
   "id": "a687c7fa",
   "metadata": {},
   "outputs": [
    {
     "name": "stdout",
     "output_type": "stream",
     "text": [
      "Number of responses in df_demog: 10844\n"
     ]
    }
   ],
   "source": [
    "# Count the number of responses in df_demog\n",
    "count_demog = df_demog.count()\n",
    "print(\"Number of responses in df_demog:\", count_demog)"
   ]
  },
  {
   "cell_type": "code",
   "execution_count": 17,
   "id": "6c5a727e",
   "metadata": {},
   "outputs": [
    {
     "name": "stdout",
     "output_type": "stream",
     "text": [
      "Number of responses in df_happy: 100535\n"
     ]
    }
   ],
   "source": [
    "# Count the number of responses in df_happy\n",
    "count_happy = df_happy.count()\n",
    "print(\"Number of responses in df_happy:\", count_happy)"
   ]
  },
  {
   "cell_type": "code",
   "execution_count": 18,
   "id": "377efcf7",
   "metadata": {},
   "outputs": [],
   "source": [
    "# Since the Happy DataFrame does not contain any missing values, we can convert it to a Pandas DataFrame and explore\n",
    "df_happy_pd = df_happy.toPandas()"
   ]
  },
  {
   "cell_type": "code",
   "execution_count": 19,
   "id": "da4dd771",
   "metadata": {},
   "outputs": [
    {
     "data": {
      "image/png": "[encoded data removed]",
      "text/plain": [
       "<Figure size 576x432 with 1 Axes>"
      ]
     },
     "metadata": {
      "needs_background": "light"
     },
     "output_type": "display_data"
    }
   ],
   "source": [
    "plt.figure(figsize=(8, 6))\n",
    "df_happy_pd['predicted_category'].value_counts().plot(kind='bar')\n",
    "plt.xlabel('Categories')\n",
    "plt.ylabel('Counts')\n",
    "plt.title('Bar Chart of Happy moment type Column')\n",
    "plt.show()"
   ]
  },
  {
   "cell_type": "code",
   "execution_count": 20,
   "id": "616d537a",
   "metadata": {},
   "outputs": [
    {
     "name": "stdout",
     "output_type": "stream",
     "text": [
      "+---+----+-------+------+--------+----------+\n",
      "|wid| age|country|gender| marital|parenthood|\n",
      "+---+----+-------+------+--------+----------+\n",
      "|  1|37.0|    USA|     m| married|         y|\n",
      "|  2|29.0|    IND|     m| married|         y|\n",
      "|  3|  25|    IND|     m|  single|         n|\n",
      "|  4|  32|    USA|     m| married|         y|\n",
      "|  5|  29|    USA|     m| married|         y|\n",
      "|  6|  35|    IND|     m| married|         y|\n",
      "|  7|  34|    USA|     m| married|         y|\n",
      "|  8|  29|    VNM|     m|  single|         n|\n",
      "|  9|  61|    USA|     f| married|         y|\n",
      "| 10|  27|    USA|     m|  single|         n|\n",
      "| 11|45.0|    USA|     m|divorced|         n|\n",
      "| 12|  25|    USA|     f|  single|         n|\n",
      "| 13|45.0|    IND|     m| married|         y|\n",
      "| 14|25.0|    IND|     m| married|         y|\n",
      "| 15|  27|    USA|     m| married|         y|\n",
      "| 16|35.0|    USA|     m|  single|         n|\n",
      "| 17|30.0|    USA|     m|  single|         n|\n",
      "| 18|  30|    USA|     m|  single|         n|\n",
      "| 19|  29|    USA|     m| married|         n|\n",
      "| 20|  40|    USA|     m| married|         y|\n",
      "+---+----+-------+------+--------+----------+\n",
      "only showing top 20 rows\n",
      "\n"
     ]
    }
   ],
   "source": [
    "# Drop rows with missing data in df_demog\n",
    "df_demog_cleaned = df_demog.dropna()\n",
    "\n",
    "# Show the cleaned DataFrame\n",
    "df_demog_cleaned.show()"
   ]
  },
  {
   "cell_type": "code",
   "execution_count": 21,
   "id": "07547751",
   "metadata": {},
   "outputs": [
    {
     "name": "stdout",
     "output_type": "stream",
     "text": [
      "Number of responses in df_demog: 10689\n"
     ]
    }
   ],
   "source": [
    "# Count the number of responses in df_demog\n",
    "count_demog_cleaned = df_demog_cleaned.count()\n",
    "print(\"Number of responses in df_demog:\", count_demog_cleaned)"
   ]
  },
  {
   "cell_type": "code",
   "execution_count": 22,
   "id": "3b6fff24",
   "metadata": {},
   "outputs": [],
   "source": [
    "#Convert missinge value cleaned demographic data frame to Pandas Data Frame for visualization\n",
    "df_demog_pd = df_demog_cleaned.toPandas()"
   ]
  },
  {
   "cell_type": "code",
   "execution_count": 23,
   "id": "c387d651",
   "metadata": {},
   "outputs": [
    {
     "data": {
      "image/png": "[encoded data removed]",
      "text/plain": [
       "<Figure size 1440x432 with 1 Axes>"
      ]
     },
     "metadata": {
      "needs_background": "light"
     },
     "output_type": "display_data"
    }
   ],
   "source": [
    "plt.figure(figsize=(20, 6))\n",
    "df_demog_pd['age'].value_counts().sort_index().plot(kind='bar')\n",
    "plt.xlabel('Age')\n",
    "plt.ylabel('Counts')\n",
    "plt.title('Bar Chart of Age')\n",
    "plt.show()"
   ]
  },
  {
   "cell_type": "code",
   "execution_count": 24,
   "id": "335aa90a",
   "metadata": {},
   "outputs": [],
   "source": [
    "# Convert the 'age' column to integers\n",
    "#df_demog_pd['age'] = df_demog_pd['age'].astype(int)\n",
    "#At this point age cannot be rounded and convert to integer since there are nonnumerical response in its column"
   ]
  },
  {
   "cell_type": "code",
   "execution_count": 25,
   "id": "f19c0495",
   "metadata": {},
   "outputs": [
    {
     "data": {
      "image/png": "[encoded data removed]",
      "text/plain": [
       "<Figure size 1440x432 with 1 Axes>"
      ]
     },
     "metadata": {
      "needs_background": "light"
     },
     "output_type": "display_data"
    }
   ],
   "source": [
    "plt.figure(figsize=(20, 6))\n",
    "df_demog_pd['gender'].value_counts().sort_index().plot(kind='bar')\n",
    "plt.xlabel('Gender')\n",
    "plt.ylabel('Counts')\n",
    "plt.title('Bar Chart of Gender')\n",
    "plt.show()"
   ]
  },
  {
   "cell_type": "code",
   "execution_count": null,
   "id": "67f590d0",
   "metadata": {},
   "outputs": [],
   "source": []
  }
 ],
 "metadata": {
  "kernelspec": {
   "display_name": "Python 3 (ipykernel)",
   "language": "python",
   "name": "python3"
  },
  "language_info": {
   "codemirror_mode": {
    "name": "ipython",
    "version": 3
   },
   "file_extension": ".py",
   "mimetype": "text/x-python",
   "name": "python",
   "nbconvert_exporter": "python",
   "pygments_lexer": "ipython3",
   "version": "3.10.4"
  }
 },
 "nbformat": 4,
 "nbformat_minor": 5
}

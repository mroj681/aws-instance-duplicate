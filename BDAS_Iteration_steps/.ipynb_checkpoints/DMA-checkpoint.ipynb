{
 "cells": [
  {
   "cell_type": "code",
   "execution_count": 1,
   "id": "c4423f36",
   "metadata": {},
   "outputs": [
    {
     "name": "stderr",
     "output_type": "stream",
     "text": [
      "WARNING: An illegal reflective access operation has occurred\n",
      "WARNING: Illegal reflective access by org.apache.spark.unsafe.Platform (file:/home/ubuntu/spark-3.2.1-bin-hadoop2.7/jars/spark-unsafe_2.12-3.2.1.jar) to constructor java.nio.DirectByteBuffer(long,int)\n",
      "WARNING: Please consider reporting this to the maintainers of org.apache.spark.unsafe.Platform\n",
      "WARNING: Use --illegal-access=warn to enable warnings of further illegal reflective access operations\n",
      "WARNING: All illegal access operations will be denied in a future release\n",
      "Using Spark's default log4j profile: org/apache/spark/log4j-defaults.properties\n",
      "Setting default log level to \"WARN\".\n",
      "To adjust logging level use sc.setLogLevel(newLevel). For SparkR, use setLogLevel(newLevel).\n",
      "23/10/12 08:31:33 WARN NativeCodeLoader: Unable to load native-hadoop library for your platform... using builtin-java classes where applicable\n"
     ]
    }
   ],
   "source": [
    "import findspark\n",
    "findspark.init('/home/ubuntu/spark-3.2.1-bin-hadoop2.7')\n",
    "import pyspark\n",
    "from pyspark.sql import SparkSession\n",
    "spark = SparkSession.builder.appName('DMA').getOrCreate()"
   ]
  },
  {
   "cell_type": "code",
   "execution_count": 2,
   "id": "755e2cd7",
   "metadata": {},
   "outputs": [
    {
     "name": "stdout",
     "output_type": "stream",
     "text": [
      "+---+---+------+-------+----------+------------------+\n",
      "|wid|age|gender|marital|parenthood|predicted_category|\n",
      "+---+---+------+-------+----------+------------------+\n",
      "|  1| 37|     m|married|         y|       achievement|\n",
      "|  2| 29|     m|married|         y|       achievement|\n",
      "|  3| 25|     m| single|         n|       achievement|\n",
      "|  4| 32|     m|married|         y|       achievement|\n",
      "|  5| 29|     m|married|         y|       achievement|\n",
      "|  6| 35|     m|married|         y|       achievement|\n",
      "|  7| 34|     m|married|         y|       achievement|\n",
      "|  8| 29|     m| single|         n|       achievement|\n",
      "| 10| 27|     m| single|         n|       achievement|\n",
      "| 12| 25|     f| single|         n|       achievement|\n",
      "| 13| 45|     m|married|         y|       achievement|\n",
      "| 14| 25|     m|married|         y|       achievement|\n",
      "| 15| 27|     m|married|         y|       achievement|\n",
      "| 16| 35|     m| single|         n|       achievement|\n",
      "| 17| 30|     m| single|         n|       achievement|\n",
      "| 18| 30|     m| single|         n|       achievement|\n",
      "| 19| 29|     m|married|         n|       achievement|\n",
      "| 20| 40|     m|married|         y|       achievement|\n",
      "| 21| 29|     m| single|         y|       achievement|\n",
      "| 22| 32|     m| single|         n|       achievement|\n",
      "+---+---+------+-------+----------+------------------+\n",
      "only showing top 20 rows\n",
      "\n"
     ]
    }
   ],
   "source": [
    "# Load data. \n",
    "data = spark.read.csv('BDAS_Iteration_Dataset/final_df.csv',inferSchema=True,header=True)\n",
    "data.show()"
   ]
  },
  {
   "cell_type": "code",
   "execution_count": 3,
   "id": "e66a6cd7",
   "metadata": {},
   "outputs": [
    {
     "name": "stdout",
     "output_type": "stream",
     "text": [
      "root\n",
      " |-- wid: integer (nullable = true)\n",
      " |-- age: integer (nullable = true)\n",
      " |-- gender: string (nullable = true)\n",
      " |-- marital: string (nullable = true)\n",
      " |-- parenthood: string (nullable = true)\n",
      " |-- predicted_category: string (nullable = true)\n",
      "\n"
     ]
    }
   ],
   "source": [
    "data.printSchema()"
   ]
  },
  {
   "cell_type": "code",
   "execution_count": 4,
   "id": "b30a5aee",
   "metadata": {},
   "outputs": [
    {
     "data": {
      "text/plain": [
       "['wid', 'age', 'gender', 'marital', 'parenthood', 'predicted_category']"
      ]
     },
     "execution_count": 4,
     "metadata": {},
     "output_type": "execute_result"
    }
   ],
   "source": [
    "data.columns"
   ]
  },
  {
   "cell_type": "code",
   "execution_count": 5,
   "id": "4019bb70",
   "metadata": {},
   "outputs": [
    {
     "name": "stderr",
     "output_type": "stream",
     "text": [
      "                                                                                \r"
     ]
    },
    {
     "name": "stdout",
     "output_type": "stream",
     "text": [
      "+-----+-------------+\n",
      "|label|     features|\n",
      "+-----+-------------+\n",
      "|  0.0|[0.0,1.0,1.0]|\n",
      "|  0.0|[0.0,1.0,1.0]|\n",
      "|  0.0|    (3,[],[])|\n",
      "|  0.0|[0.0,1.0,1.0]|\n",
      "|  0.0|[0.0,1.0,1.0]|\n",
      "|  0.0|[0.0,1.0,1.0]|\n",
      "|  0.0|[0.0,1.0,1.0]|\n",
      "|  0.0|    (3,[],[])|\n",
      "|  0.0|    (3,[],[])|\n",
      "|  0.0|[1.0,0.0,0.0]|\n",
      "|  0.0|[0.0,1.0,1.0]|\n",
      "|  0.0|[0.0,1.0,1.0]|\n",
      "|  0.0|[0.0,1.0,1.0]|\n",
      "|  0.0|    (3,[],[])|\n",
      "|  0.0|    (3,[],[])|\n",
      "|  0.0|    (3,[],[])|\n",
      "|  0.0|[0.0,1.0,0.0]|\n",
      "|  0.0|[0.0,1.0,1.0]|\n",
      "|  0.0|[0.0,0.0,1.0]|\n",
      "|  0.0|    (3,[],[])|\n",
      "+-----+-------------+\n",
      "only showing top 20 rows\n",
      "\n"
     ]
    }
   ],
   "source": [
    "from pyspark.ml.feature import StringIndexer, VectorAssembler\n",
    "from pyspark.ml import Pipeline\n",
    "\n",
    "# Create StringIndexers for categorical predictor variables\n",
    "gender_indexer = StringIndexer(inputCol=\"gender\", outputCol=\"gender_index\")\n",
    "marital_indexer = StringIndexer(inputCol=\"marital\", outputCol=\"marital_index\")\n",
    "parenthood_indexer = StringIndexer(inputCol=\"parenthood\", outputCol=\"parenthood_index\")\n",
    "\n",
    "# Create a StringIndexer for the target variable\n",
    "target_indexer = StringIndexer(inputCol=\"predicted_category\", outputCol=\"label\")\n",
    "\n",
    "# Assemble the predictor variables into a single features column\n",
    "assembler = VectorAssembler(\n",
    "    inputCols=[\"gender_index\", \"marital_index\", \"parenthood_index\"],\n",
    "    outputCol=\"features\"\n",
    ")\n",
    "\n",
    "# Define a pipeline to execute the transformations\n",
    "pipeline = Pipeline(stages=[gender_indexer, marital_indexer, parenthood_indexer, target_indexer, assembler])\n",
    "\n",
    "# Fit and transform the data using the pipeline\n",
    "model = pipeline.fit(data)\n",
    "data = model.transform(data)\n",
    "\n",
    "# Select the relevant columns for your machine learning model\n",
    "final_data = data.select(\"label\", \"features\")\n",
    "\n",
    "# Show the first few rows of the final_data DataFrame\n",
    "final_data.show()"
   ]
  },
  {
   "cell_type": "code",
   "execution_count": 6,
   "id": "49954aea",
   "metadata": {},
   "outputs": [
    {
     "name": "stdout",
     "output_type": "stream",
     "text": [
      "+------+------------+\n",
      "|gender|gender_index|\n",
      "+------+------------+\n",
      "|     m|         0.0|\n",
      "|     f|         1.0|\n",
      "+------+------------+\n",
      "\n",
      "+-------+-------------+\n",
      "|marital|marital_index|\n",
      "+-------+-------------+\n",
      "| single|          0.0|\n",
      "|married|          1.0|\n",
      "+-------+-------------+\n",
      "\n",
      "+----------+----------------+\n",
      "|parenthood|parenthood_index|\n",
      "+----------+----------------+\n",
      "|         n|             0.0|\n",
      "|         y|             1.0|\n",
      "+----------+----------------+\n",
      "\n",
      "+------------------+-----+\n",
      "|predicted_category|label|\n",
      "+------------------+-----+\n",
      "|       achievement|  0.0|\n",
      "|         affection|  1.0|\n",
      "+------------------+-----+\n",
      "\n"
     ]
    }
   ],
   "source": [
    "from pyspark.sql.functions import col\n",
    "data.select(\"gender\", \"gender_index\").distinct().orderBy(\"gender_index\").show()\n",
    "data.select(\"marital\", \"marital_index\").distinct().orderBy(\"marital_index\").show()\n",
    "data.select(\"parenthood\", \"parenthood_index\").distinct().orderBy(\"parenthood_index\").show()\n",
    "data.select(\"predicted_category\", \"label\").distinct().orderBy(\"label\").show()"
   ]
  },
  {
   "cell_type": "code",
   "execution_count": 7,
   "id": "57d5bba1",
   "metadata": {},
   "outputs": [
    {
     "name": "stderr",
     "output_type": "stream",
     "text": [
      "\r",
      "[Stage 30:>                                                         (0 + 1) / 1]\r",
      "\r",
      "                                                                                \r"
     ]
    },
    {
     "name": "stdout",
     "output_type": "stream",
     "text": [
      "Random Forest AUC: 0.5\n",
      "Random Forest Accuracy: 0.8018698309960446\n"
     ]
    },
    {
     "name": "stderr",
     "output_type": "stream",
     "text": [
      "23/10/12 08:32:04 WARN InstanceBuilder$NativeBLAS: Failed to load implementation from:dev.ludovic.netlib.blas.JNIBLAS\n",
      "23/10/12 08:32:04 WARN InstanceBuilder$NativeBLAS: Failed to load implementation from:dev.ludovic.netlib.blas.ForeignLinkerBLAS\n"
     ]
    },
    {
     "name": "stdout",
     "output_type": "stream",
     "text": [
      "Gradient Boosted Trees AUC: 0.6414342451148747\n",
      "Gradient Boosted Trees Accuracy: 0.8018698309960446\n"
     ]
    },
    {
     "name": "stderr",
     "output_type": "stream",
     "text": [
      "23/10/12 08:32:08 ERROR OWLQN: Failure! Resetting history: breeze.optimize.NaNHistory: \n",
      "23/10/12 08:32:10 ERROR OWLQN: Failure! Resetting history: breeze.optimize.NaNHistory: \n",
      "23/10/12 08:32:11 ERROR OWLQN: Failure! Resetting history: breeze.optimize.NaNHistory: \n"
     ]
    },
    {
     "name": "stdout",
     "output_type": "stream",
     "text": [
      "Support Vector Machines AUC: 0.5808977562198367\n",
      "Support Vector Machines Accuracy: 0.8018698309960446\n",
      "LogisticRegression AUC: 0.6421886826235218\n",
      "LogisticRegression Accuracy: 0.8018698309960446\n"
     ]
    }
   ],
   "source": [
    "from pyspark.ml.classification import RandomForestClassifier, GBTClassifier, LinearSVC,LogisticRegression\n",
    "from pyspark.ml.evaluation import BinaryClassificationEvaluator, MulticlassClassificationEvaluator\n",
    "\n",
    "# Split the data into training and testing sets\n",
    "train_data, test_data = final_data.randomSplit([0.7, 0.3])\n",
    "\n",
    "# List of models\n",
    "models = {\n",
    "    \"Random Forest\": RandomForestClassifier(featuresCol=\"features\", labelCol=\"label\"),\n",
    "    \"Gradient Boosted Trees\": GBTClassifier(featuresCol=\"features\", labelCol=\"label\"),\n",
    "    \"Support Vector Machines\": LinearSVC(featuresCol=\"features\", labelCol=\"label\"),\n",
    "    \"LogisticRegression\": LogisticRegression(featuresCol=\"features\", labelCol=\"label\")\n",
    "}\n",
    "\n",
    "# Train and evaluate each model\n",
    "for model_name, model in models.items():\n",
    "    trained_model = model.fit(train_data)\n",
    "    predictions = trained_model.transform(test_data)\n",
    "    \n",
    "   # Calculate AUC\n",
    "    binary_evaluator = BinaryClassificationEvaluator()\n",
    "    auc = binary_evaluator.evaluate(predictions)\n",
    "    \n",
    "    # Calculate Accuracy\n",
    "    multiclass_evaluator = MulticlassClassificationEvaluator(labelCol=\"label\", predictionCol=\"prediction\", metricName=\"accuracy\")\n",
    "    accuracy = multiclass_evaluator.evaluate(predictions)\n",
    "    \n",
    "    print(f\"{model_name} AUC: {auc}\")\n",
    "    print(f\"{model_name} Accuracy: {accuracy}\")"
   ]
  },
  {
   "cell_type": "code",
   "execution_count": 8,
   "id": "dc08e995",
   "metadata": {},
   "outputs": [
    {
     "name": "stderr",
     "output_type": "stream",
     "text": [
      "23/10/12 08:32:25 ERROR OWLQN: Failure! Resetting history: breeze.optimize.NaNHistory: \n",
      "23/10/12 08:32:27 ERROR OWLQN: Failure! Resetting history: breeze.optimize.NaNHistory: \n",
      "23/10/12 08:32:28 ERROR OWLQN: Failure! Resetting history: breeze.optimize.NaNHistory: \n",
      "                                                                                \r"
     ]
    }
   ],
   "source": [
    "import os\n",
    "from pyspark.ml.classification import GBTClassificationModel, LogisticRegressionModel\n",
    "\n",
    "# Train all the models\n",
    "trained_models = {}\n",
    "for model_name, model in models.items():\n",
    "    trained_model = model.fit(train_data)\n",
    "    trained_models[model_name] = trained_model\n",
    "\n",
    "# Get the current working directory\n",
    "current_dir = os.getcwd()\n",
    "\n",
    "# Save the GBT and LR models in the current working directory\n",
    "for model_name, trained_model in trained_models.items():\n",
    "    if model_name in [\"Gradient Boosted Trees\", \"LogisticRegression\"]:\n",
    "        model_path = os.path.join(current_dir, f\"{model_name}_model\") \n",
    "        trained_model.write().overwrite().save(model_path)\n"
   ]
  },
  {
   "cell_type": "code",
   "execution_count": null,
   "id": "40d769c8",
   "metadata": {},
   "outputs": [],
   "source": []
  }
 ],
 "metadata": {
  "kernelspec": {
   "display_name": "Python 3 (ipykernel)",
   "language": "python",
   "name": "python3"
  },
  "language_info": {
   "codemirror_mode": {
    "name": "ipython",
    "version": 3
   },
   "file_extension": ".py",
   "mimetype": "text/x-python",
   "name": "python",
   "nbconvert_exporter": "python",
   "pygments_lexer": "ipython3",
   "version": "3.10.12"
  }
 },
 "nbformat": 4,
 "nbformat_minor": 5
}

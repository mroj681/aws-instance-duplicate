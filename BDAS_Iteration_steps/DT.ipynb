{
 "cells": [
  {
   "cell_type": "code",
   "execution_count": null,
   "id": "26d43394",
   "metadata": {},
   "outputs": [],
   "source": [
    "import findspark\n",
    "findspark.init('/home/ubuntu/spark-3.2.1-bin-hadoop2.7')\n",
    "import pyspark\n",
    "from pyspark.sql import SparkSession\n",
    "spark = SparkSession.builder.appName('DT').getOrCreate()"
   ]
  },
  {
   "cell_type": "code",
   "execution_count": null,
   "id": "8e02724e",
   "metadata": {},
   "outputs": [],
   "source": [
    "#DT\n",
    "\n",
    "#Read in and display the data in dataset\n",
    "df=spark.read.csv('BDAS_Iteration_Dataset/cleaned_merged_df.csv', header=True, inferSchema=True)\n",
    "df.show()"
   ]
  },
  {
   "cell_type": "code",
   "execution_count": null,
   "id": "fffd0c34",
   "metadata": {},
   "outputs": [],
   "source": [
    "# Data reduction\n",
    "\n",
    "from pyspark.sql.window import Window\n",
    "from pyspark.sql.functions import row_number\n",
    "\n",
    "# Order by 'wid' and 'predicted_category' and count occurrences\n",
    "window_spec = Window.partitionBy('wid').orderBy('predicted_category')\n",
    "ranked_categories = df.withColumn('rank', row_number().over(window_spec))\n",
    "\n",
    "# Filter for the top ranked categories\n",
    "singleResponsesPerWid_data = ranked_categories.filter(col('rank') == 1)\n",
    "\n",
    "# Show the resulting DataFrame\n",
    "singleResponsesPerWid_data.show()"
   ]
  },
  {
   "cell_type": "code",
   "execution_count": null,
   "id": "211fed1a",
   "metadata": {},
   "outputs": [],
   "source": [
    "singleResponsesPerWid_data.count()"
   ]
  },
  {
   "cell_type": "code",
   "execution_count": null,
   "id": "b7aad08a",
   "metadata": {},
   "outputs": [],
   "source": [
    "from pyspark.sql.functions import count, desc\n",
    "\n",
    "# Group by 'wid' and count occurrences, and order by count in descending order\n",
    "wid_counts = singleResponsesPerWid_data.groupBy('wid').agg(count('*').alias('count')).orderBy(desc('count'))\n",
    "\n",
    "# Show the resulting DataFrame\n",
    "wid_counts.show()"
   ]
  },
  {
   "cell_type": "code",
   "execution_count": null,
   "id": "036a9132",
   "metadata": {},
   "outputs": [],
   "source": [
    "singleResponsesPerWid_data = singleResponsesPerWid_data.drop('rank')\n",
    "singleResponsesPerWid_data.show()"
   ]
  },
  {
   "cell_type": "code",
   "execution_count": null,
   "id": "15e9d6b1",
   "metadata": {},
   "outputs": [],
   "source": [
    "# Group and count for the 'age' attribute\n",
    "age_counts = singleResponsesPerWid_data.groupBy('age').count()\n",
    "\n",
    "# Show the resulting DataFrame\n",
    "age_counts.show()"
   ]
  },
  {
   "cell_type": "code",
   "execution_count": null,
   "id": "22584c85",
   "metadata": {},
   "outputs": [],
   "source": [
    "# Group the data by 'gender' and 'predicted_category'\n",
    "grouped_data = singleResponsesPerWid_data.groupBy('gender', 'predicted_category').count()\n",
    "\n",
    "# Create a pivot table to show counts of each predicted_category for each gender\n",
    "pivot_table = grouped_data.groupBy('gender').pivot('predicted_category').sum('count')\n",
    "\n",
    "# Fill null values with 0\n",
    "pivot_table = pivot_table.fillna(0)\n",
    "\n",
    "# Show the resulting pivot table\n",
    "pivot_table.show()"
   ]
  },
  {
   "cell_type": "code",
   "execution_count": null,
   "id": "acd337db",
   "metadata": {},
   "outputs": [],
   "source": [
    "import matplotlib.pyplot as plt\n",
    "\n",
    "# Convert the pivot table to Pandas DataFrame\n",
    "pivot_df = pivot_table.toPandas()\n",
    "\n",
    "# Set the gender column as the index\n",
    "pivot_df.set_index('gender', inplace=True)\n",
    "\n",
    "# Plot the data as a bar chart\n",
    "pivot_df.plot(kind='bar', stacked=True, figsize=(12, 6))\n",
    "\n",
    "# Add labels and title\n",
    "plt.xlabel('Gender')\n",
    "plt.ylabel('Count')\n",
    "plt.title('Happiness Category Distribution by Gender')\n",
    "\n",
    "# Show the plot\n",
    "plt.show()"
   ]
  },
  {
   "cell_type": "code",
   "execution_count": null,
   "id": "9c44cd30",
   "metadata": {},
   "outputs": [],
   "source": [
    "# Group the data by 'age' and 'predicted_category'\n",
    "grouped_data = singleResponsesPerWid_data.groupBy('age', 'predicted_category').count()\n",
    "\n",
    "# Create a pivot table to show counts of each predicted_category for each gender\n",
    "pivot_table = grouped_data.groupBy('age').pivot('predicted_category').sum('count')\n",
    "\n",
    "# Fill null values with 0\n",
    "pivot_table = pivot_table.fillna(0)\n",
    "\n",
    "# Show the resulting pivot table\n",
    "pivot_table.show()"
   ]
  },
  {
   "cell_type": "code",
   "execution_count": null,
   "id": "c7721b19",
   "metadata": {},
   "outputs": [],
   "source": [
    "import matplotlib.pyplot as plt\n",
    "\n",
    "# Convert the pivot table to Pandas DataFrame\n",
    "pivot_df = pivot_table.toPandas()\n",
    "\n",
    "# Set the age column as the index\n",
    "pivot_df.set_index('age', inplace=True)\n",
    "\n",
    "# Sort the DataFrame by age\n",
    "pivot_df = pivot_df.sort_index()\n",
    "\n",
    "# Plot the data as a bar chart\n",
    "pivot_df.plot(kind='bar', stacked=True, figsize=(12, 6))\n",
    "\n",
    "# Add labels and title\n",
    "plt.xlabel('Age')\n",
    "plt.ylabel('Count')\n",
    "plt.title('Happiness Category Distribution by Age')\n",
    "\n",
    "# Show the plot\n",
    "plt.show()\n"
   ]
  },
  {
   "cell_type": "code",
   "execution_count": null,
   "id": "8185aa2a",
   "metadata": {},
   "outputs": [],
   "source": [
    "# Group the data by 'marital status' and 'predicted_category'\n",
    "grouped_data = singleResponsesPerWid_data.groupBy('marital', 'predicted_category').count()\n",
    "\n",
    "# Create a pivot table to show counts of each predicted_category for each gender\n",
    "pivot_table = grouped_data.groupBy('marital').pivot('predicted_category').sum('count')\n",
    "\n",
    "# Fill null values with 0\n",
    "pivot_table = pivot_table.fillna(0)\n",
    "\n",
    "# Show the resulting pivot table\n",
    "pivot_table.show()"
   ]
  },
  {
   "cell_type": "code",
   "execution_count": null,
   "id": "67c38b64",
   "metadata": {},
   "outputs": [],
   "source": [
    "import matplotlib.pyplot as plt\n",
    "\n",
    "# Convert the pivot table to Pandas DataFrame\n",
    "pivot_df = pivot_table.toPandas()\n",
    "\n",
    "# Set the age column as the index\n",
    "pivot_df.set_index('marital', inplace=True)\n",
    "\n",
    "# Sort the DataFrame by age\n",
    "pivot_df = pivot_df.sort_index()\n",
    "\n",
    "# Plot the data as a bar chart\n",
    "pivot_df.plot(kind='bar', stacked=True, figsize=(12, 6))\n",
    "\n",
    "# Add labels and title\n",
    "plt.xlabel('Marital status')\n",
    "plt.ylabel('Count')\n",
    "plt.title('Happiness Category Distribution by Age')\n",
    "\n",
    "# Show the plot\n",
    "plt.show()"
   ]
  },
  {
   "cell_type": "code",
   "execution_count": null,
   "id": "dd839962",
   "metadata": {},
   "outputs": [],
   "source": [
    "# Group the data by 'parenthood' and 'predicted_category'\n",
    "grouped_data = singleResponsesPerWid_data.groupBy('parenthood', 'predicted_category').count()\n",
    "\n",
    "# Create a pivot table to show counts of each predicted_category for each gender\n",
    "pivot_table = grouped_data.groupBy('parenthood').pivot('predicted_category').sum('count')\n",
    "\n",
    "# Fill null values with 0\n",
    "pivot_table = pivot_table.fillna(0)\n",
    "\n",
    "# Show the resulting pivot table\n",
    "pivot_table.show()"
   ]
  },
  {
   "cell_type": "code",
   "execution_count": null,
   "id": "a9c0e5c8",
   "metadata": {},
   "outputs": [],
   "source": [
    "import matplotlib.pyplot as plt\n",
    "\n",
    "# Convert the pivot table to Pandas DataFrame\n",
    "pivot_df = pivot_table.toPandas()\n",
    "\n",
    "# Set the age column as the index\n",
    "pivot_df.set_index('parenthood', inplace=True)\n",
    "\n",
    "# Sort the DataFrame by age\n",
    "pivot_df = pivot_df.sort_index()\n",
    "\n",
    "# Plot the data as a bar chart\n",
    "pivot_df.plot(kind='bar', stacked=True, figsize=(12, 6))\n",
    "\n",
    "# Add labels and title\n",
    "plt.xlabel('Parenthood')\n",
    "plt.ylabel('Count')\n",
    "plt.title('Happiness Category Distribution by Age')\n",
    "\n",
    "# Show the plot\n",
    "plt.show()"
   ]
  },
  {
   "cell_type": "code",
   "execution_count": null,
   "id": "d732dd1d",
   "metadata": {},
   "outputs": [],
   "source": [
    "grouped_data = singleResponsesPerWid_data.groupBy('predicted_category').count()"
   ]
  },
  {
   "cell_type": "code",
   "execution_count": null,
   "id": "88eb81b8",
   "metadata": {},
   "outputs": [],
   "source": [
    "grouped_data.show()"
   ]
  },
  {
   "cell_type": "code",
   "execution_count": null,
   "id": "b88b0c4d",
   "metadata": {},
   "outputs": [],
   "source": []
  }
 ],
 "metadata": {
  "kernelspec": {
   "display_name": "Python 3 (ipykernel)",
   "language": "python",
   "name": "python3"
  },
  "language_info": {
   "codemirror_mode": {
    "name": "ipython",
    "version": 3
   },
   "file_extension": ".py",
   "mimetype": "text/x-python",
   "name": "python",
   "nbconvert_exporter": "python",
   "pygments_lexer": "ipython3",
   "version": "3.10.12"
  }
 },
 "nbformat": 4,
 "nbformat_minor": 5
}

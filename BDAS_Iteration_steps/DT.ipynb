{
 "cells": [
  {
   "cell_type": "code",
   "execution_count": 1,
   "id": "26d43394",
   "metadata": {},
   "outputs": [
    {
     "name": "stderr",
     "output_type": "stream",
     "text": [
      "WARNING: An illegal reflective access operation has occurred\n",
      "WARNING: Illegal reflective access by org.apache.spark.unsafe.Platform (file:/home/ubuntu/spark-3.2.1-bin-hadoop2.7/jars/spark-unsafe_2.12-3.2.1.jar) to constructor java.nio.DirectByteBuffer(long,int)\n",
      "WARNING: Please consider reporting this to the maintainers of org.apache.spark.unsafe.Platform\n",
      "WARNING: Use --illegal-access=warn to enable warnings of further illegal reflective access operations\n",
      "WARNING: All illegal access operations will be denied in a future release\n",
      "Using Spark's default log4j profile: org/apache/spark/log4j-defaults.properties\n",
      "Setting default log level to \"WARN\".\n",
      "To adjust logging level use sc.setLogLevel(newLevel). For SparkR, use setLogLevel(newLevel).\n",
      "23/10/11 23:08:04 WARN NativeCodeLoader: Unable to load native-hadoop library for your platform... using builtin-java classes where applicable\n",
      "23/10/11 23:08:05 WARN Utils: Service 'SparkUI' could not bind on port 4040. Attempting port 4041.\n"
     ]
    }
   ],
   "source": [
    "import findspark\n",
    "findspark.init('/home/ubuntu/spark-3.2.1-bin-hadoop2.7')\n",
    "import pyspark\n",
    "from pyspark.sql import SparkSession\n",
    "spark = SparkSession.builder.appName('DT').getOrCreate()"
   ]
  },
  {
   "cell_type": "code",
   "execution_count": 2,
   "id": "8e02724e",
   "metadata": {},
   "outputs": [
    {
     "name": "stdout",
     "output_type": "stream",
     "text": [
      "+----+---+-------+------+--------+----------+------------------+\n",
      "| wid|age|country|gender| marital|parenthood|predicted_category|\n",
      "+----+---+-------+------+--------+----------+------------------+\n",
      "|2053| 35|    USA|     m|  single|         n|         affection|\n",
      "|   2| 29|    IND|     m| married|         y|         affection|\n",
      "|1936| 30|    USA|     f| married|         y|          exercise|\n",
      "| 206| 28|    DNK|     f| married|         n|           bonding|\n",
      "|6227| 55|    USA|     f|divorced|         y|         affection|\n",
      "|  45| 23|    IND|     m|  single|         n|           leisure|\n",
      "| 195| 30|    USA|     m|  single|         n|       achievement|\n",
      "| 740| 23|    IND|     m|  single|         n|         affection|\n",
      "|   3| 25|    IND|     m|  single|         n|  enjoy_the_moment|\n",
      "|4833| 41|    USA|     f| married|         y|         affection|\n",
      "|7334| 37|    USA|     m|  single|         y|           leisure|\n",
      "|  78| 28|    USA|     f| married|         y|          exercise|\n",
      "|  21| 29|    IND|     m|  single|         y|           bonding|\n",
      "|   8| 29|    VNM|     m|  single|         n|       achievement|\n",
      "| 586| 28|    IND|     f|  single|         y|  enjoy_the_moment|\n",
      "| 489| 39|    IND|     m| married|         y|         affection|\n",
      "| 976| 25|    KWT|     f| married|         y|           bonding|\n",
      "|3972| 28|    USA|     m|  single|         n|       achievement|\n",
      "|  14| 25|    IND|     m| married|         y|           bonding|\n",
      "|1230| 32|    USA|     f|  single|         n|         affection|\n",
      "+----+---+-------+------+--------+----------+------------------+\n",
      "only showing top 20 rows\n",
      "\n"
     ]
    },
    {
     "data": {
      "text/plain": [
       "95855"
      ]
     },
     "execution_count": 2,
     "metadata": {},
     "output_type": "execute_result"
    }
   ],
   "source": [
    "#DT\n",
    "\n",
    "#Read in and display the data in dataset\n",
    "df=spark.read.csv('BDAS_Iteration_Dataset/merged_df.csv', header=True, inferSchema=True)\n",
    "df.show()\n",
    "df.count()"
   ]
  },
  {
   "cell_type": "code",
   "execution_count": 3,
   "id": "fffd0c34",
   "metadata": {},
   "outputs": [
    {
     "name": "stderr",
     "output_type": "stream",
     "text": [
      "                                                                                \r"
     ]
    },
    {
     "name": "stdout",
     "output_type": "stream",
     "text": [
      "+---+---+------+--------+----------+------------------+\n",
      "|wid|age|gender| marital|parenthood|predicted_category|\n",
      "+---+---+------+--------+----------+------------------+\n",
      "|  1| 37|     m| married|         y|       achievement|\n",
      "|  2| 29|     m| married|         y|       achievement|\n",
      "|  3| 25|     m|  single|         n|       achievement|\n",
      "|  4| 32|     m| married|         y|       achievement|\n",
      "|  5| 29|     m| married|         y|       achievement|\n",
      "|  6| 35|     m| married|         y|       achievement|\n",
      "|  7| 34|     m| married|         y|       achievement|\n",
      "|  8| 29|     m|  single|         n|       achievement|\n",
      "| 10| 27|     m|  single|         n|       achievement|\n",
      "| 11| 45|     m|divorced|         n|       achievement|\n",
      "| 12| 25|     f|  single|         n|       achievement|\n",
      "| 13| 45|     m| married|         y|       achievement|\n",
      "| 14| 25|     m| married|         y|       achievement|\n",
      "| 15| 27|     m| married|         y|       achievement|\n",
      "| 16| 35|     m|  single|         n|       achievement|\n",
      "| 17| 30|     m|  single|         n|       achievement|\n",
      "| 18| 30|     m|  single|         n|       achievement|\n",
      "| 19| 29|     m| married|         n|       achievement|\n",
      "| 20| 40|     m| married|         y|       achievement|\n",
      "| 21| 29|     m|  single|         y|       achievement|\n",
      "+---+---+------+--------+----------+------------------+\n",
      "only showing top 20 rows\n",
      "\n"
     ]
    },
    {
     "data": {
      "text/plain": [
       "10189"
      ]
     },
     "execution_count": 3,
     "metadata": {},
     "output_type": "execute_result"
    }
   ],
   "source": [
    "# Data reduction\n",
    "\n",
    "from pyspark.sql.window import Window\n",
    "from pyspark.sql.functions import row_number, col\n",
    "\n",
    "# Order by 'wid' and 'predicted_category' and count occurrences\n",
    "window_spec = Window.partitionBy('wid').orderBy('predicted_category')\n",
    "ranked_categories = df.withColumn('rank', row_number().over(window_spec))\n",
    "\n",
    "# Filter for the top ranked categories\n",
    "singleResponsesPerWid_data = ranked_categories.filter(col('rank') == 1)\n",
    "\n",
    "# Show the resulting DataFrame\n",
    "df = singleResponsesPerWid_data.drop('country','rank')\n",
    "\n",
    "df.show()\n",
    "df.count()"
   ]
  },
  {
   "cell_type": "code",
   "execution_count": 4,
   "id": "d2b06929",
   "metadata": {
    "scrolled": true
   },
   "outputs": [
    {
     "name": "stdout",
     "output_type": "stream",
     "text": [
      "+------+-----+\n",
      "|gender|count|\n",
      "+------+-----+\n",
      "|     m| 5099|\n",
      "|     f| 5036|\n",
      "|     o|   54|\n",
      "+------+-----+\n",
      "\n"
     ]
    }
   ],
   "source": [
    "# Check distribution of each attribute after reduction\n",
    "\n",
    "#Gender\n",
    "gender_grouped_df = df.groupBy('gender')\n",
    "result_df = gender_grouped_df.count()\n",
    "gender_df = result_df.orderBy('count', ascending=False)\n",
    "gender_df.show()"
   ]
  },
  {
   "cell_type": "code",
   "execution_count": 5,
   "id": "665abeb4",
   "metadata": {},
   "outputs": [
    {
     "data": {
      "text/plain": [
       "10135"
      ]
     },
     "execution_count": 5,
     "metadata": {},
     "output_type": "execute_result"
    }
   ],
   "source": [
    "# Filter out rows without 'o' in the 'gender' column\n",
    "df = df.filter(df['gender'] != 'o')\n",
    "df.count()"
   ]
  },
  {
   "cell_type": "code",
   "execution_count": 6,
   "id": "cadc637f",
   "metadata": {},
   "outputs": [
    {
     "name": "stdout",
     "output_type": "stream",
     "text": [
      "+------+-----+\n",
      "|gender|count|\n",
      "+------+-----+\n",
      "|     m| 5099|\n",
      "|     f| 5036|\n",
      "+------+-----+\n",
      "\n"
     ]
    }
   ],
   "source": [
    "gender_grouped_df = df.groupBy('gender')\n",
    "result_df = gender_grouped_df.count()\n",
    "gender_df = result_df.orderBy('count', ascending=False)\n",
    "gender_df.show()"
   ]
  },
  {
   "cell_type": "code",
   "execution_count": 7,
   "id": "3bb50ec2",
   "metadata": {},
   "outputs": [
    {
     "name": "stdout",
     "output_type": "stream",
     "text": [
      "+---------+-----+\n",
      "|  marital|count|\n",
      "+---------+-----+\n",
      "|   single| 5523|\n",
      "|  married| 4034|\n",
      "| divorced|  451|\n",
      "|separated|   91|\n",
      "|  widowed|   36|\n",
      "+---------+-----+\n",
      "\n"
     ]
    }
   ],
   "source": [
    "# Check distribution of each attribute after reduction\n",
    "\n",
    "#Marital status\n",
    "marital_grouped_df = df.groupBy('marital')\n",
    "result_df = marital_grouped_df.count()\n",
    "marital_df = result_df.orderBy('count', ascending=False)\n",
    "marital_df.show()"
   ]
  },
  {
   "cell_type": "code",
   "execution_count": 8,
   "id": "9e0f2be0",
   "metadata": {},
   "outputs": [
    {
     "data": {
      "text/plain": [
       "9557"
      ]
     },
     "execution_count": 8,
     "metadata": {},
     "output_type": "execute_result"
    }
   ],
   "source": [
    "# Create a new DataFrame with 'single' and 'married' in the 'marital' column\n",
    "df = df.filter((df['marital'] == 'single') | (df['marital'] == 'married'))\n",
    "df.count()"
   ]
  },
  {
   "cell_type": "code",
   "execution_count": 9,
   "id": "af2dcda1",
   "metadata": {},
   "outputs": [
    {
     "name": "stdout",
     "output_type": "stream",
     "text": [
      "+-------+-----+\n",
      "|marital|count|\n",
      "+-------+-----+\n",
      "| single| 5523|\n",
      "|married| 4034|\n",
      "+-------+-----+\n",
      "\n"
     ]
    }
   ],
   "source": [
    "#Marital status\n",
    "marital_grouped_df = df.groupBy('marital')\n",
    "result_df = marital_grouped_df.count()\n",
    "marital_df = result_df.orderBy('count', ascending=False)\n",
    "marital_df.show()"
   ]
  },
  {
   "cell_type": "code",
   "execution_count": 10,
   "id": "86124d2f",
   "metadata": {},
   "outputs": [
    {
     "name": "stdout",
     "output_type": "stream",
     "text": [
      "+------------------+-----+\n",
      "|predicted_category|count|\n",
      "+------------------+-----+\n",
      "|           bonding|  119|\n",
      "|          exercise|    5|\n",
      "|           leisure|    5|\n",
      "|       achievement| 7474|\n",
      "|  enjoy_the_moment|   46|\n",
      "|         affection| 1908|\n",
      "+------------------+-----+\n",
      "\n"
     ]
    }
   ],
   "source": [
    "# Happiness\n",
    "happy_type_counts = df.groupBy( 'predicted_category').count()\n",
    "happy_type_counts .show()"
   ]
  },
  {
   "cell_type": "code",
   "execution_count": 11,
   "id": "928fbc71",
   "metadata": {},
   "outputs": [
    {
     "data": {
      "text/plain": [
       "9382"
      ]
     },
     "execution_count": 11,
     "metadata": {},
     "output_type": "execute_result"
    }
   ],
   "source": [
    "# Create a new DataFrame with only 'achievement' and 'affection' in the 'predicted_category' column\n",
    "df = df.filter((df['predicted_category'] == 'achievement') | (df['predicted_category'] == 'affection'))\n",
    "df.count()"
   ]
  },
  {
   "cell_type": "code",
   "execution_count": 12,
   "id": "c24b334b",
   "metadata": {
    "scrolled": true
   },
   "outputs": [
    {
     "name": "stdout",
     "output_type": "stream",
     "text": [
      "+------------------+-----+\n",
      "|predicted_category|count|\n",
      "+------------------+-----+\n",
      "|       achievement| 7474|\n",
      "|         affection| 1908|\n",
      "+------------------+-----+\n",
      "\n"
     ]
    }
   ],
   "source": [
    "# Happiness\n",
    "happy_type_counts = df.groupBy( 'predicted_category').count()\n",
    "happy_type_counts .show()"
   ]
  },
  {
   "cell_type": "code",
   "execution_count": 13,
   "id": "15e9d6b1",
   "metadata": {},
   "outputs": [
    {
     "name": "stdout",
     "output_type": "stream",
     "text": [
      "+---+-----------+---------+\n",
      "|age|achievement|affection|\n",
      "+---+-----------+---------+\n",
      "| 31|        315|       92|\n",
      "| 53|         32|       17|\n",
      "| 34|        278|       84|\n",
      "| 28|        414|      101|\n",
      "| 27|        462|      101|\n",
      "| 26|        483|       99|\n",
      "| 44|         74|       25|\n",
      "| 22|        330|       64|\n",
      "| 47|         46|       13|\n",
      "| 52|         46|       12|\n",
      "| 20|        178|       28|\n",
      "| 40|        116|       45|\n",
      "| 54|         41|       15|\n",
      "| 48|         47|        9|\n",
      "| 19|        133|       23|\n",
      "| 41|        109|       34|\n",
      "| 43|         84|       25|\n",
      "| 37|        164|       51|\n",
      "| 17|          2|        0|\n",
      "| 35|        255|       59|\n",
      "+---+-----------+---------+\n",
      "only showing top 20 rows\n",
      "\n"
     ]
    }
   ],
   "source": [
    "grouped_data = df.groupBy('age', 'predicted_category').count()\n",
    "\n",
    "# Create a pivot table to show counts of each predicted_category for each age\n",
    "pivot_table = grouped_data.groupBy('age').pivot('predicted_category').sum('count')\n",
    "\n",
    "# Fill null values with 0\n",
    "pivot_table = pivot_table.fillna(0)\n",
    "\n",
    "# Show the resulting pivot table\n",
    "pivot_table.show()"
   ]
  },
  {
   "cell_type": "code",
   "execution_count": 14,
   "id": "c7721b19",
   "metadata": {},
   "outputs": [
    {
     "data": {
      "image/png": "[encoded data removed]",
      "text/plain": [
       "<Figure size 864x432 with 1 Axes>"
      ]
     },
     "metadata": {
      "needs_background": "light"
     },
     "output_type": "display_data"
    }
   ],
   "source": [
    "import matplotlib.pyplot as plt\n",
    "\n",
    "# Convert the pivot table to Pandas DataFrame\n",
    "pivot_df = pivot_table.toPandas()\n",
    "\n",
    "# Set the age column as the index\n",
    "pivot_df.set_index('age', inplace=True)\n",
    "\n",
    "# Sort the DataFrame by age\n",
    "pivot_df = pivot_df.sort_index()\n",
    "\n",
    "# Plot the data as a bar chart\n",
    "pivot_df.plot(kind='bar', stacked=True, figsize=(12, 6))\n",
    "\n",
    "# Add labels and title\n",
    "plt.xlabel('Age')\n",
    "plt.ylabel('Count')\n",
    "plt.title('Happiness Category Distribution by Age')\n",
    "\n",
    "# Show the plot\n",
    "plt.show()"
   ]
  },
  {
   "cell_type": "code",
   "execution_count": 15,
   "id": "22584c85",
   "metadata": {},
   "outputs": [
    {
     "name": "stdout",
     "output_type": "stream",
     "text": [
      "+------------------+----+----+\n",
      "|predicted_category|   f|   m|\n",
      "+------------------+----+----+\n",
      "|       achievement|3363|4111|\n",
      "|         affection|1189| 719|\n",
      "+------------------+----+----+\n",
      "\n"
     ]
    }
   ],
   "source": [
    "# Group the data by 'gender' and 'predicted_category'\n",
    "grouped_data = df.groupBy('predicted_category','gender').count()\n",
    "\n",
    "# Create a pivot table to show counts of each predicted_category for each gender\n",
    "pivot_table = grouped_data.groupBy('predicted_category').pivot('gender').sum('count')\n",
    "\n",
    "# Fill null values with 0\n",
    "pivot_table = pivot_table.fillna(0)\n",
    "\n",
    "# Show the resulting pivot table\n",
    "pivot_table.show()"
   ]
  },
  {
   "cell_type": "code",
   "execution_count": 16,
   "id": "acd337db",
   "metadata": {},
   "outputs": [
    {
     "data": {
      "image/png": "[encoded data removed]",
      "text/plain": [
       "<Figure size 864x432 with 1 Axes>"
      ]
     },
     "metadata": {
      "needs_background": "light"
     },
     "output_type": "display_data"
    }
   ],
   "source": [
    "import matplotlib.pyplot as plt\n",
    "\n",
    "# Convert the pivot table to Pandas DataFrame\n",
    "pivot_df = pivot_table.toPandas()\n",
    "\n",
    "# Set the gender column as the index\n",
    "pivot_df.set_index('predicted_category', inplace=True)\n",
    "\n",
    "# Plot the data as a bar chart\n",
    "pivot_df.plot(kind='bar', stacked=True, figsize=(12, 6))\n",
    "\n",
    "# Add labels and title\n",
    "plt.xlabel('Predicted_category')\n",
    "plt.ylabel('Count')\n",
    "plt.title('Happiness Category Distribution by Gender')\n",
    "\n",
    "# Show the plot\n",
    "plt.show()"
   ]
  },
  {
   "cell_type": "code",
   "execution_count": 17,
   "id": "8185aa2a",
   "metadata": {},
   "outputs": [
    {
     "name": "stdout",
     "output_type": "stream",
     "text": [
      "+------------------+-------+------+\n",
      "|predicted_category|married|single|\n",
      "+------------------+-------+------+\n",
      "|       achievement|   2903|  4571|\n",
      "|         affection|   1099|   809|\n",
      "+------------------+-------+------+\n",
      "\n"
     ]
    }
   ],
   "source": [
    "# Group the data by 'marital status' and 'predicted_category'\n",
    "grouped_data = df.groupBy('predicted_category','marital').count()\n",
    "\n",
    "# Create a pivot table to show counts of each predicted_category for each gender\n",
    "pivot_table = grouped_data.groupBy('predicted_category').pivot('marital').sum('count')\n",
    "\n",
    "# Fill null values with 0\n",
    "pivot_table = pivot_table.fillna(0)\n",
    "\n",
    "# Show the resulting pivot table\n",
    "pivot_table.show()"
   ]
  },
  {
   "cell_type": "code",
   "execution_count": 18,
   "id": "67c38b64",
   "metadata": {},
   "outputs": [
    {
     "data": {
      "image/png": "[encoded data removed]",
      "text/plain": [
       "<Figure size 864x432 with 1 Axes>"
      ]
     },
     "metadata": {
      "needs_background": "light"
     },
     "output_type": "display_data"
    }
   ],
   "source": [
    "import matplotlib.pyplot as plt\n",
    "\n",
    "# Convert the pivot table to Pandas DataFrame\n",
    "pivot_df = pivot_table.toPandas()\n",
    "\n",
    "# Set the age column as the index\n",
    "pivot_df.set_index('predicted_category', inplace=True)\n",
    "\n",
    "# Sort the DataFrame by age\n",
    "pivot_df = pivot_df.sort_index()\n",
    "\n",
    "# Plot the data as a bar chart\n",
    "pivot_df.plot(kind='bar', stacked=True, figsize=(12, 6))\n",
    "\n",
    "# Add labels and title\n",
    "plt.xlabel('Predicted_category')\n",
    "plt.ylabel('Count')\n",
    "plt.title('Happiness Category Distribution by Age')\n",
    "\n",
    "# Show the plot\n",
    "plt.show()"
   ]
  },
  {
   "cell_type": "code",
   "execution_count": 19,
   "id": "dd839962",
   "metadata": {},
   "outputs": [
    {
     "name": "stdout",
     "output_type": "stream",
     "text": [
      "+------------------+----+----+\n",
      "|predicted_category|   n|   y|\n",
      "+------------------+----+----+\n",
      "|       achievement|4980|2494|\n",
      "|         affection| 919| 989|\n",
      "+------------------+----+----+\n",
      "\n"
     ]
    }
   ],
   "source": [
    "# Group the data by 'parenthood' and 'predicted_category'\n",
    "grouped_data = df.groupBy('parenthood', 'predicted_category').count()\n",
    "\n",
    "# Create a pivot table to show counts of each predicted_category for each gender\n",
    "pivot_table = grouped_data.groupBy('predicted_category').pivot('parenthood').sum('count')\n",
    "\n",
    "# Fill null values with 0\n",
    "pivot_table = pivot_table.fillna(0)\n",
    "\n",
    "# Show the resulting pivot table\n",
    "pivot_table.show()"
   ]
  },
  {
   "cell_type": "code",
   "execution_count": 20,
   "id": "a9c0e5c8",
   "metadata": {},
   "outputs": [
    {
     "data": {
      "image/png": "[encoded data removed]",
      "text/plain": [
       "<Figure size 864x432 with 1 Axes>"
      ]
     },
     "metadata": {
      "needs_background": "light"
     },
     "output_type": "display_data"
    }
   ],
   "source": [
    "import matplotlib.pyplot as plt\n",
    "\n",
    "# Convert the pivot table to Pandas DataFrame\n",
    "pivot_df = pivot_table.toPandas()\n",
    "\n",
    "# Set the age column as the index\n",
    "pivot_df.set_index('predicted_category', inplace=True)\n",
    "\n",
    "# Sort the DataFrame by age\n",
    "pivot_df = pivot_df.sort_index()\n",
    "\n",
    "# Plot the data as a bar chart\n",
    "pivot_df.plot(kind='bar', stacked=True, figsize=(12, 6))\n",
    "\n",
    "# Add labels and title\n",
    "plt.xlabel('predicted_category')\n",
    "plt.ylabel('Count')\n",
    "plt.title('Happiness Category Distribution by Age')\n",
    "\n",
    "# Show the plot\n",
    "plt.show()"
   ]
  },
  {
   "cell_type": "code",
   "execution_count": 22,
   "id": "18ce3201",
   "metadata": {},
   "outputs": [
    {
     "name": "stdout",
     "output_type": "stream",
     "text": [
      "+---+---+------+-------+----------+------------------+\n",
      "|wid|age|gender|marital|parenthood|predicted_category|\n",
      "+---+---+------+-------+----------+------------------+\n",
      "|  1| 37|     m|married|         y|       achievement|\n",
      "|  2| 29|     m|married|         y|       achievement|\n",
      "|  3| 25|     m| single|         n|       achievement|\n",
      "|  4| 32|     m|married|         y|       achievement|\n",
      "|  5| 29|     m|married|         y|       achievement|\n",
      "|  6| 35|     m|married|         y|       achievement|\n",
      "|  7| 34|     m|married|         y|       achievement|\n",
      "|  8| 29|     m| single|         n|       achievement|\n",
      "| 10| 27|     m| single|         n|       achievement|\n",
      "| 12| 25|     f| single|         n|       achievement|\n",
      "| 13| 45|     m|married|         y|       achievement|\n",
      "| 14| 25|     m|married|         y|       achievement|\n",
      "| 15| 27|     m|married|         y|       achievement|\n",
      "| 16| 35|     m| single|         n|       achievement|\n",
      "| 17| 30|     m| single|         n|       achievement|\n",
      "| 18| 30|     m| single|         n|       achievement|\n",
      "| 19| 29|     m|married|         n|       achievement|\n",
      "| 20| 40|     m|married|         y|       achievement|\n",
      "| 21| 29|     m| single|         y|       achievement|\n",
      "| 22| 32|     m| single|         n|       achievement|\n",
      "+---+---+------+-------+----------+------------------+\n",
      "only showing top 20 rows\n",
      "\n"
     ]
    },
    {
     "data": {
      "text/plain": [
       "9382"
      ]
     },
     "execution_count": 22,
     "metadata": {},
     "output_type": "execute_result"
    }
   ],
   "source": [
    "df.show()\n",
    "df.count()"
   ]
  },
  {
   "cell_type": "code",
   "execution_count": 25,
   "id": "eb876580",
   "metadata": {},
   "outputs": [],
   "source": [
    "# Specify the path to save the CSV file\n",
    "output_path = 'BDAS_Iteration_Dataset/final_df.csv'\n",
    "# Write the DataFrame to the CSV file\n",
    "df.write.csv(output_path, header=True)"
   ]
  },
  {
   "cell_type": "code",
   "execution_count": null,
   "id": "4c72e890",
   "metadata": {},
   "outputs": [],
   "source": []
  }
 ],
 "metadata": {
  "kernelspec": {
   "display_name": "Python 3 (ipykernel)",
   "language": "python",
   "name": "python3"
  },
  "language_info": {
   "codemirror_mode": {
    "name": "ipython",
    "version": 3
   },
   "file_extension": ".py",
   "mimetype": "text/x-python",
   "name": "python",
   "nbconvert_exporter": "python",
   "pygments_lexer": "ipython3",
   "version": "3.10.12"
  }
 },
 "nbformat": 4,
 "nbformat_minor": 5
}

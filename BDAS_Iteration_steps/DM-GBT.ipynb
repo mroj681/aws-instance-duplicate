{
 "cells": [
  {
   "cell_type": "code",
   "execution_count": 1,
   "id": "c4423f36",
   "metadata": {},
   "outputs": [
    {
     "name": "stderr",
     "output_type": "stream",
     "text": [
      "WARNING: An illegal reflective access operation has occurred\n",
      "WARNING: Illegal reflective access by org.apache.spark.unsafe.Platform (file:/home/ubuntu/spark-3.2.1-bin-hadoop2.7/jars/spark-unsafe_2.12-3.2.1.jar) to constructor java.nio.DirectByteBuffer(long,int)\n",
      "WARNING: Please consider reporting this to the maintainers of org.apache.spark.unsafe.Platform\n",
      "WARNING: Use --illegal-access=warn to enable warnings of further illegal reflective access operations\n",
      "WARNING: All illegal access operations will be denied in a future release\n",
      "Using Spark's default log4j profile: org/apache/spark/log4j-defaults.properties\n",
      "Setting default log level to \"WARN\".\n",
      "To adjust logging level use sc.setLogLevel(newLevel). For SparkR, use setLogLevel(newLevel).\n",
      "23/10/12 10:15:45 WARN NativeCodeLoader: Unable to load native-hadoop library for your platform... using builtin-java classes where applicable\n"
     ]
    }
   ],
   "source": [
    "import findspark\n",
    "findspark.init('/home/ubuntu/spark-3.2.1-bin-hadoop2.7')\n",
    "import pyspark\n",
    "from pyspark.sql import SparkSession\n",
    "spark = SparkSession.builder.appName('DM-GBT').getOrCreate()"
   ]
  },
  {
   "cell_type": "code",
   "execution_count": 2,
   "id": "755e2cd7",
   "metadata": {},
   "outputs": [],
   "source": [
    "# Load data. \n",
    "data = spark.read.csv('BDAS_Iteration_Dataset/final_df.csv',inferSchema=True,header=True)"
   ]
  },
  {
   "cell_type": "code",
   "execution_count": 3,
   "id": "4019bb70",
   "metadata": {},
   "outputs": [
    {
     "name": "stderr",
     "output_type": "stream",
     "text": [
      "                                                                                \r"
     ]
    },
    {
     "name": "stdout",
     "output_type": "stream",
     "text": [
      "+-----+-------------+\n",
      "|label|     features|\n",
      "+-----+-------------+\n",
      "|  0.0|[0.0,1.0,1.0]|\n",
      "|  0.0|[0.0,1.0,1.0]|\n",
      "|  0.0|    (3,[],[])|\n",
      "|  0.0|[0.0,1.0,1.0]|\n",
      "|  0.0|[0.0,1.0,1.0]|\n",
      "|  0.0|[0.0,1.0,1.0]|\n",
      "|  0.0|[0.0,1.0,1.0]|\n",
      "|  0.0|    (3,[],[])|\n",
      "|  0.0|    (3,[],[])|\n",
      "|  0.0|[1.0,0.0,0.0]|\n",
      "|  0.0|[0.0,1.0,1.0]|\n",
      "|  0.0|[0.0,1.0,1.0]|\n",
      "|  0.0|[0.0,1.0,1.0]|\n",
      "|  0.0|    (3,[],[])|\n",
      "|  0.0|    (3,[],[])|\n",
      "|  0.0|    (3,[],[])|\n",
      "|  0.0|[0.0,1.0,0.0]|\n",
      "|  0.0|[0.0,1.0,1.0]|\n",
      "|  0.0|[0.0,0.0,1.0]|\n",
      "|  0.0|    (3,[],[])|\n",
      "+-----+-------------+\n",
      "only showing top 20 rows\n",
      "\n"
     ]
    }
   ],
   "source": [
    "from pyspark.ml.feature import StringIndexer, VectorAssembler\n",
    "from pyspark.ml import Pipeline\n",
    "\n",
    "# Create StringIndexers for categorical predictor variables\n",
    "gender_indexer = StringIndexer(inputCol=\"gender\", outputCol=\"gender_index\")\n",
    "marital_indexer = StringIndexer(inputCol=\"marital\", outputCol=\"marital_index\")\n",
    "parenthood_indexer = StringIndexer(inputCol=\"parenthood\", outputCol=\"parenthood_index\")\n",
    "\n",
    "# Create a StringIndexer for the target variable\n",
    "target_indexer = StringIndexer(inputCol=\"predicted_category\", outputCol=\"label\")\n",
    "\n",
    "# Assemble the predictor variables into a single features column\n",
    "assembler = VectorAssembler(\n",
    "    inputCols=[\"gender_index\", \"marital_index\", \"parenthood_index\"],\n",
    "    outputCol=\"features\"\n",
    ")\n",
    "\n",
    "# Define a pipeline to execute the transformations\n",
    "pipeline = Pipeline(stages=[gender_indexer, marital_indexer, parenthood_indexer, target_indexer, assembler])\n",
    "\n",
    "# Fit and transform the data using the pipeline\n",
    "model = pipeline.fit(data)\n",
    "data = model.transform(data)\n",
    "\n",
    "# Select the relevant columns for your machine learning model\n",
    "final_data = data.select(\"label\", \"features\")\n",
    "\n",
    "# Show the first few rows of the final_data DataFrame\n",
    "final_data.show()"
   ]
  },
  {
   "cell_type": "code",
   "execution_count": 4,
   "id": "1932eaca",
   "metadata": {},
   "outputs": [],
   "source": [
    "from pyspark.ml.classification import GBTClassifier\n",
    "from pyspark.ml.evaluation import BinaryClassificationEvaluator, MulticlassClassificationEvaluator"
   ]
  },
  {
   "cell_type": "code",
   "execution_count": 5,
   "id": "ba4be752",
   "metadata": {},
   "outputs": [
    {
     "name": "stderr",
     "output_type": "stream",
     "text": [
      "23/10/12 10:16:13 WARN InstanceBuilder$NativeBLAS: Failed to load implementation from:dev.ludovic.netlib.blas.JNIBLAS\n",
      "23/10/12 10:16:13 WARN InstanceBuilder$NativeBLAS: Failed to load implementation from:dev.ludovic.netlib.blas.ForeignLinkerBLAS\n"
     ]
    },
    {
     "name": "stdout",
     "output_type": "stream",
     "text": [
      "            Feature  Importance\n",
      "1     marital_index    0.607889\n",
      "0      gender_index    0.311582\n",
      "2  parenthood_index    0.080529\n",
      "AUC 0.647713528245162\n"
     ]
    }
   ],
   "source": [
    "# Split the data into training and testing sets\n",
    "train_data, test_data = final_data.randomSplit([0.7, 0.3])\n",
    "\n",
    "gbt = GBTClassifier(featuresCol=\"features\", labelCol=\"label\")\n",
    "\n",
    "trained_model = gbt.fit(train_data)\n",
    "predictions = trained_model.transform(test_data)\n",
    "\n",
    "# Create a binary evaluator for AUC\n",
    "binary_evaluator = BinaryClassificationEvaluator()\n",
    "auc = binary_evaluator.evaluate(predictions)\n",
    "\n",
    "# Get the feature names from the VectorAssembler stage in the pipeline\n",
    "assembler_stage = model.stages[-1]  # Assuming the VectorAssembler is the last stage\n",
    "feature_names = assembler_stage.getInputCols()\n",
    "\n",
    "# Get feature importances from the trained GBT model\n",
    "feature_importance = trained_model.featureImportances\n",
    "\n",
    "# Work with a Pandas DataFrame\n",
    "import pandas as pd\n",
    "\n",
    "# Create a Pandas DataFrame for feature importances and feature names\n",
    "feature_importance_df = pd.DataFrame({\n",
    "    'Feature': feature_names,\n",
    "    'Importance': feature_importance.toArray()\n",
    "})\n",
    "\n",
    "# Sort by feature importance\n",
    "feature_importance_df = feature_importance_df.sort_values(by='Importance', ascending=False)\n",
    "\n",
    "# Display the feature importances\n",
    "print(feature_importance_df)\n",
    "print('AUC', auc)"
   ]
  },
  {
   "cell_type": "code",
   "execution_count": null,
   "id": "fe39a141",
   "metadata": {},
   "outputs": [],
   "source": []
  }
 ],
 "metadata": {
  "kernelspec": {
   "display_name": "Python 3 (ipykernel)",
   "language": "python",
   "name": "python3"
  },
  "language_info": {
   "codemirror_mode": {
    "name": "ipython",
    "version": 3
   },
   "file_extension": ".py",
   "mimetype": "text/x-python",
   "name": "python",
   "nbconvert_exporter": "python",
   "pygments_lexer": "ipython3",
   "version": "3.10.12"
  }
 },
 "nbformat": 4,
 "nbformat_minor": 5
}

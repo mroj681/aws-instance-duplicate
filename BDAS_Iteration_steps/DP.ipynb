{
 "cells": [
  {
   "cell_type": "code",
   "execution_count": 1,
   "id": "5ab20ecc",
   "metadata": {},
   "outputs": [
    {
     "name": "stderr",
     "output_type": "stream",
     "text": [
      "WARNING: An illegal reflective access operation has occurred\n",
      "WARNING: Illegal reflective access by org.apache.spark.unsafe.Platform (file:/home/ubuntu/spark-3.2.1-bin-hadoop2.7/jars/spark-unsafe_2.12-3.2.1.jar) to constructor java.nio.DirectByteBuffer(long,int)\n",
      "WARNING: Please consider reporting this to the maintainers of org.apache.spark.unsafe.Platform\n",
      "WARNING: Use --illegal-access=warn to enable warnings of further illegal reflective access operations\n",
      "WARNING: All illegal access operations will be denied in a future release\n",
      "Using Spark's default log4j profile: org/apache/spark/log4j-defaults.properties\n",
      "Setting default log level to \"WARN\".\n",
      "To adjust logging level use sc.setLogLevel(newLevel). For SparkR, use setLogLevel(newLevel).\n",
      "23/10/11 09:45:45 WARN NativeCodeLoader: Unable to load native-hadoop library for your platform... using builtin-java classes where applicable\n"
     ]
    }
   ],
   "source": [
    "import findspark\n",
    "findspark.init('/home/ubuntu/spark-3.2.1-bin-hadoop2.7')\n",
    "import pyspark\n",
    "from pyspark.sql import SparkSession\n",
    "spark = SparkSession.builder.appName('DP').getOrCreate()"
   ]
  },
  {
   "cell_type": "code",
   "execution_count": 2,
   "id": "172b7489",
   "metadata": {},
   "outputs": [
    {
     "name": "stderr",
     "output_type": "stream",
     "text": [
      "\r",
      "[Stage 3:>                                                          (0 + 2) / 2]\r",
      "\r",
      "                                                                                \r"
     ]
    },
    {
     "name": "stdout",
     "output_type": "stream",
     "text": [
      "+---+----+-------+------+--------+----------+\n",
      "|wid| age|country|gender| marital|parenthood|\n",
      "+---+----+-------+------+--------+----------+\n",
      "|  1|37.0|    USA|     m| married|         y|\n",
      "|  2|29.0|    IND|     m| married|         y|\n",
      "|  3|  25|    IND|     m|  single|         n|\n",
      "|  4|  32|    USA|     m| married|         y|\n",
      "|  5|  29|    USA|     m| married|         y|\n",
      "|  6|  35|    IND|     m| married|         y|\n",
      "|  7|  34|    USA|     m| married|         y|\n",
      "|  8|  29|    VNM|     m|  single|         n|\n",
      "|  9|  61|    USA|     f| married|         y|\n",
      "| 10|  27|    USA|     m|  single|         n|\n",
      "| 11|45.0|    USA|     m|divorced|         n|\n",
      "| 12|  25|    USA|     f|  single|         n|\n",
      "| 13|45.0|    IND|     m| married|         y|\n",
      "| 14|25.0|    IND|     m| married|         y|\n",
      "| 15|  27|    USA|     m| married|         y|\n",
      "| 16|35.0|    USA|     m|  single|         n|\n",
      "| 17|30.0|    USA|     m|  single|         n|\n",
      "| 18|  30|    USA|     m|  single|         n|\n",
      "| 19|  29|    USA|     m| married|         n|\n",
      "| 20|  40|    USA|     m| married|         y|\n",
      "+---+----+-------+------+--------+----------+\n",
      "only showing top 20 rows\n",
      "\n",
      "+--------------------+----+-----------------+--------------------+--------------------+--------+------------+---------------------+------------------+\n",
      "|                hmid| wid|reflection_period|         original_hm|          cleaned_hm|modified|num_sentence|ground_truth_category|predicted_category|\n",
      "+--------------------+----+-----------------+--------------------+--------------------+--------+------------+---------------------+------------------+\n",
      "|               27673|2053|              24h|I went on a succe...|I went on a succe...|    True|           1|                 null|         affection|\n",
      "|               27674|   2|              24h|I was happy when ...|I was happy when ...|    True|           1|                 null|         affection|\n",
      "|               27675|1936|              24h|I went to the gym...|I went to the gym...|    True|           1|                 null|          exercise|\n",
      "|               27676| 206|              24h|We had a serious ...|We had a serious ...|    True|           2|              bonding|           bonding|\n",
      "|               27677|6227|              24h|I went with grand...|                null|    null|        null|                 null|              null|\n",
      "|\",\"I went with gr...|null|             null|                null|                null|    null|        null|                 null|              null|\n",
      "|  ,True,1,,affection|null|             null|                null|                null|    null|        null|                 null|              null|\n",
      "|               27678|  45|              24h|I meditated last ...|I meditated last ...|    True|           1|              leisure|           leisure|\n",
      "|               27679| 195|              24h|I made a new reci...|I made a new reci...|    True|           1|                 null|       achievement|\n",
      "|               27680| 740|              24h|I got gift from m...|I got gift from m...|    True|           1|                 null|         affection|\n",
      "|               27681|   3|              24h|YESTERDAY MY MOMS...|YESTERDAY MY MOMS...|    True|           1|                 null|  enjoy_the_moment|\n",
      "|               27682|4833|              24h|Watching cupcake ...|Watching cupcake ...|    True|           1|                 null|         affection|\n",
      "|               27683|7334|              24h|I came in 3rd pla...|I came in 3rd pla...|    True|           1|                 null|           leisure|\n",
      "|               27684|  78|              24h|I completed my 5 ...|I completed my 5 ...|    True|           2|                 null|          exercise|\n",
      "|               27685|  21|              24h|went to movies wi...|went to movies wi...|    True|           1|                 null|           bonding|\n",
      "|               27686|   8|              24h|I was shorting Go...|I was shorting Go...|    True|           1|                 null|       achievement|\n",
      "|               27687| 586|              24h|Hearing Songs It ...|Hearing Songs It ...|   False|           2|                 null|  enjoy_the_moment|\n",
      "|               27688| 489|              24h|My son performed ...|My son performed ...|    True|           1|                 null|         affection|\n",
      "|               27689| 976|              24h|I helped my neigh...|I helped my neigh...|    True|           1|                 null|           bonding|\n",
      "|               27690|3972|              24h|Managed to get th...|Managed to get th...|    True|           1|                 null|       achievement|\n",
      "+--------------------+----+-----------------+--------------------+--------------------+--------+------------+---------------------+------------------+\n",
      "only showing top 20 rows\n",
      "\n"
     ]
    }
   ],
   "source": [
    "#DP\n",
    "\n",
    "#Read in and display the data in dataset\n",
    "df_demog=spark.read.csv('BDAS_Iteration_Dataset/demographic.csv', header=True, inferSchema=True)\n",
    "df_happy=spark.read.csv('BDAS_Iteration_Dataset/cleaned_hm.csv', header=True, inferSchema=True)\n",
    "df_demog.show()\n",
    "df_happy.show()"
   ]
  },
  {
   "cell_type": "code",
   "execution_count": 3,
   "id": "a4200c22",
   "metadata": {},
   "outputs": [
    {
     "name": "stdout",
     "output_type": "stream",
     "text": [
      "Number of rows in demographic file: 10844\n",
      "Number of rows in happy moment file: 106401\n"
     ]
    }
   ],
   "source": [
    "print('Number of rows in demographic file:', df_demog.count())\n",
    "print('Number of rows in happy moment file:', df_happy.count())"
   ]
  },
  {
   "cell_type": "code",
   "execution_count": 4,
   "id": "513a3276",
   "metadata": {},
   "outputs": [
    {
     "name": "stdout",
     "output_type": "stream",
     "text": [
      "+----+------------------+\n",
      "| wid|predicted_category|\n",
      "+----+------------------+\n",
      "|2053|         affection|\n",
      "|   2|         affection|\n",
      "|1936|          exercise|\n",
      "| 206|           bonding|\n",
      "|6227|              null|\n",
      "|null|              null|\n",
      "|null|              null|\n",
      "|  45|           leisure|\n",
      "| 195|       achievement|\n",
      "| 740|         affection|\n",
      "|   3|  enjoy_the_moment|\n",
      "|4833|         affection|\n",
      "|7334|           leisure|\n",
      "|  78|          exercise|\n",
      "|  21|           bonding|\n",
      "|   8|       achievement|\n",
      "| 586|  enjoy_the_moment|\n",
      "| 489|         affection|\n",
      "| 976|           bonding|\n",
      "|3972|       achievement|\n",
      "+----+------------------+\n",
      "only showing top 20 rows\n",
      "\n"
     ]
    }
   ],
   "source": [
    "#Data Selection\n",
    "\n",
    "# Drop multiple unused columns in df_happy\n",
    "columns_to_drop = ['hmid', 'reflection_period', 'original_hm', 'cleaned_hm', 'modified', 'num_sentence', 'ground_truth_category']\n",
    "dropped_happy_df = df_happy.drop(*columns_to_drop)\n",
    "dropped_happy_df.count()\n",
    "dropped_happy_df.show()"
   ]
  },
  {
   "cell_type": "code",
   "execution_count": 5,
   "id": "43774014",
   "metadata": {},
   "outputs": [
    {
     "name": "stdout",
     "output_type": "stream",
     "text": [
      "+----+------------------+\n",
      "| wid|predicted_category|\n",
      "+----+------------------+\n",
      "|2053|         affection|\n",
      "|   2|         affection|\n",
      "|1936|          exercise|\n",
      "| 206|           bonding|\n",
      "|6227|         affection|\n",
      "|  45|           leisure|\n",
      "| 195|       achievement|\n",
      "| 740|         affection|\n",
      "|   3|  enjoy_the_moment|\n",
      "|4833|         affection|\n",
      "|7334|           leisure|\n",
      "|  78|          exercise|\n",
      "|  21|           bonding|\n",
      "|   8|       achievement|\n",
      "| 586|  enjoy_the_moment|\n",
      "| 489|         affection|\n",
      "| 976|           bonding|\n",
      "|3972|       achievement|\n",
      "|  14|           bonding|\n",
      "|1230|         affection|\n",
      "+----+------------------+\n",
      "only showing top 20 rows\n",
      "\n"
     ]
    },
    {
     "data": {
      "text/plain": [
       "100535"
      ]
     },
     "execution_count": 5,
     "metadata": {},
     "output_type": "execute_result"
    }
   ],
   "source": [
    "# Import the modified Happy moment file and replace the current one for happy_df\n",
    "df_happy=spark.read.csv('BDAS_Iteration_Dataset/cleaned_hm_01.csv', header=True, inferSchema=True)\n",
    "df_happy.show()\n",
    "df_happy.count()"
   ]
  },
  {
   "cell_type": "code",
   "execution_count": 6,
   "id": "b4494d00",
   "metadata": {},
   "outputs": [
    {
     "name": "stdout",
     "output_type": "stream",
     "text": [
      "wid: 0\n",
      "predicted_category: 0\n"
     ]
    },
    {
     "name": "stderr",
     "output_type": "stream",
     "text": [
      "\r",
      "[Stage 22:>                                                         (0 + 1) / 1]\r",
      "\r",
      "                                                                                \r"
     ]
    }
   ],
   "source": [
    "from pyspark.sql.functions import col, isnull, count, when, isnan\n",
    "\n",
    "# Count the rows with null values in the entire DataFrame\n",
    "count_null_rows = df_happy.select([count(when(isnan(c) | col(c).isNull(), c)).alias(c) for c in df_happy.columns]).collect()[0]\n",
    "for column in df_happy.columns:\n",
    "    print(f\"{column}: {count_null_rows[column]}\")"
   ]
  },
  {
   "cell_type": "code",
   "execution_count": 7,
   "id": "ca1713aa",
   "metadata": {},
   "outputs": [
    {
     "name": "stdout",
     "output_type": "stream",
     "text": [
      "Count of rows with null values in the DataFrame:\n",
      "wid: 0\n",
      "age: 35\n",
      "country: 73\n",
      "gender: 32\n",
      "marital: 57\n",
      "parenthood: 31\n"
     ]
    }
   ],
   "source": [
    "# Count the rows with null values in the entire DataFrame\n",
    "count_null_rows = df_demog.select([count(when(isnan(c) | col(c).isNull(), c)).alias(c) for c in df_demog.columns]).collect()[0]\n",
    "\n",
    "print(\"Count of rows with null values in the DataFrame:\")\n",
    "for column in df_demog.columns:\n",
    "    print(f\"{column}: {count_null_rows[column]}\")"
   ]
  },
  {
   "cell_type": "code",
   "execution_count": 8,
   "id": "f1bfa34d",
   "metadata": {},
   "outputs": [
    {
     "data": {
      "text/plain": [
       "10689"
      ]
     },
     "execution_count": 8,
     "metadata": {},
     "output_type": "execute_result"
    }
   ],
   "source": [
    "df_demog = df_demog.na.drop()\n",
    "df_demog.count()"
   ]
  },
  {
   "cell_type": "code",
   "execution_count": 9,
   "id": "35d43a70",
   "metadata": {},
   "outputs": [
    {
     "name": "stdout",
     "output_type": "stream",
     "text": [
      "Count of rows with null values in the DataFrame:\n",
      "wid: 0\n",
      "age: 0\n",
      "country: 0\n",
      "gender: 0\n",
      "marital: 0\n",
      "parenthood: 0\n"
     ]
    }
   ],
   "source": [
    "count_null_rows = df_demog.select([count(when(isnan(c) | col(c).isNull(), c)).alias(c) for c in df_demog.columns]).collect()[0]\n",
    "\n",
    "print(\"Count of rows with null values in the DataFrame:\")\n",
    "for column in df_demog.columns:\n",
    "    print(f\"{column}: {count_null_rows[column]}\")"
   ]
  },
  {
   "cell_type": "code",
   "execution_count": 10,
   "id": "d06607a9",
   "metadata": {},
   "outputs": [
    {
     "name": "stdout",
     "output_type": "stream",
     "text": [
      "Count of non-numeric responses in the 'age' column: 3\n",
      "+-----+-----------------+-------+------+--------+----------+\n",
      "|  wid|              age|country|gender| marital|parenthood|\n",
      "+-----+-----------------+-------+------+--------+----------+\n",
      "|  317|prefer not to say|    USA|     m|  single|         n|\n",
      "| 8086|               čá|    GBR|     m|divorced|         y|\n",
      "|12276|            60yrs|    USA|     f|  single|         y|\n",
      "+-----+-----------------+-------+------+--------+----------+\n",
      "\n"
     ]
    }
   ],
   "source": [
    "# Filter out non-numeric responses in the 'age' column\n",
    "non_numeric_age_count = df_demog.filter(~col('age').cast('int').isNotNull()).count()\n",
    "\n",
    "print(f\"Count of non-numeric responses in the 'age' column: {non_numeric_age_count}\")\n",
    "\n",
    "non_numeric_age_df = df_demog.filter(~col('age').cast('int').isNotNull())\n",
    "non_numeric_age_df.show()"
   ]
  },
  {
   "cell_type": "code",
   "execution_count": 11,
   "id": "39fea15a",
   "metadata": {},
   "outputs": [
    {
     "name": "stdout",
     "output_type": "stream",
     "text": [
      "Count of non-numeric responses in the 'age' column: 0\n"
     ]
    }
   ],
   "source": [
    "from pyspark.sql.functions import avg\n",
    "\n",
    "# Step 1: Calculate the average age\n",
    "average_age = df_demog.select(avg(col('age'))).collect()[0][0]\n",
    "\n",
    "# Step 2: Replace non-numeric age values with the average age\n",
    "df_demog = df_demog.withColumn('age', when(col('age').cast('int').isNotNull(), col('age')).otherwise(average_age))\n",
    "\n",
    "non_numeric_age_count = df_demog.filter(~col('age').cast('int').isNotNull()).count()\n",
    "\n",
    "print(f\"Count of non-numeric responses in the 'age' column: {non_numeric_age_count}\")"
   ]
  },
  {
   "cell_type": "code",
   "execution_count": 12,
   "id": "1012518c",
   "metadata": {},
   "outputs": [
    {
     "name": "stdout",
     "output_type": "stream",
     "text": [
      "+----+-----+\n",
      "| age|count|\n",
      "+----+-----+\n",
      "|  26|  354|\n",
      "|  25|  353|\n",
      "|  27|  335|\n",
      "|  29|  317|\n",
      "|  30|  315|\n",
      "|  24|  299|\n",
      "|  28|  297|\n",
      "|  31|  280|\n",
      "|  32|  272|\n",
      "|  23|  262|\n",
      "|26.0|  258|\n",
      "|27.0|  257|\n",
      "|25.0|  246|\n",
      "|28.0|  244|\n",
      "|29.0|  236|\n",
      "|  34|  232|\n",
      "|  22|  225|\n",
      "|23.0|  223|\n",
      "|30.0|  220|\n",
      "|  33|  213|\n",
      "+----+-----+\n",
      "only showing top 20 rows\n",
      "\n"
     ]
    },
    {
     "name": "stderr",
     "output_type": "stream",
     "text": [
      "\r",
      "[Stage 47:>                                                         (0 + 1) / 1]\r",
      "\r",
      "                                                                                \r"
     ]
    },
    {
     "data": {
      "image/png": "[encoded data removed]",
      "text/plain": [
       "<Figure size 864x432 with 1 Axes>"
      ]
     },
     "metadata": {
      "needs_background": "light"
     },
     "output_type": "display_data"
    }
   ],
   "source": [
    "# Age\n",
    "age_grouped_df = df_demog.groupBy('age')\n",
    "result_df = age_grouped_df.count()\n",
    "sorted_result_df = result_df.orderBy('count', ascending=False)\n",
    "sorted_result_df.show()\n",
    "\n",
    "#Data Visualizing\n",
    "\n",
    "import matplotlib.pyplot as plt\n",
    "\n",
    "# Filter out None and non-string values from the 'age' column\n",
    "age_data = df_demog.filter(df_demog['age'].isNotNull() & (df_demog['age'] != '')).select('age').rdd.flatMap(lambda x: x).collect()\n",
    "\n",
    "# Convert the 'age' values to integers for plotting\n",
    "age_data = [int(age) for age in age_data if age.isdigit()]\n",
    "\n",
    "# Create a histogram\n",
    "plt.figure(figsize=(12, 6))\n",
    "n, bins, patches = plt.hist(age_data, bins=25, edgecolor='k', alpha=0.7)\n",
    "\n",
    "# Add labels and title\n",
    "plt.xlabel('Age')\n",
    "plt.ylabel('Frequency')\n",
    "plt.title('Age Distribution')\n",
    "\n",
    "# Customize x-tick labels to display age values\n",
    "plt.xticks(bins, [str(int(b)) for b in bins])\n",
    "\n",
    "# Add count labels to each bar\n",
    "for count, patch in zip(n, patches):\n",
    "    if count > 0:\n",
    "        plt.text(patch.get_x() + patch.get_width() / 2, count, str(int(count)), ha='center', va='bottom')\n",
    "\n",
    "# Display the plot\n",
    "plt.show()"
   ]
  },
  {
   "cell_type": "code",
   "execution_count": 13,
   "id": "c60d48e4",
   "metadata": {},
   "outputs": [
    {
     "name": "stdout",
     "output_type": "stream",
     "text": [
      "+---+-----+\n",
      "|age|count|\n",
      "+---+-----+\n",
      "| 26|  612|\n",
      "| 25|  599|\n",
      "| 27|  592|\n",
      "| 29|  553|\n",
      "| 28|  541|\n",
      "| 30|  535|\n",
      "| 23|  485|\n",
      "| 24|  482|\n",
      "| 32|  465|\n",
      "| 31|  437|\n",
      "| 22|  408|\n",
      "| 34|  387|\n",
      "| 33|  371|\n",
      "| 35|  350|\n",
      "| 21|  322|\n",
      "| 36|  305|\n",
      "| 37|  233|\n",
      "| 38|  225|\n",
      "| 20|  213|\n",
      "| 40|  183|\n",
      "+---+-----+\n",
      "only showing top 20 rows\n",
      "\n"
     ]
    }
   ],
   "source": [
    "# Cast the 'age' column to integer\n",
    "df_demog = df_demog.withColumn('age', col('age').cast('int'))\n",
    "\n",
    "# Show the DataFrame with 'age' column as integers\n",
    "age_grouped_df = df_demog.groupBy('age')\n",
    "result_df = age_grouped_df.count()\n",
    "sorted_result_df = result_df.orderBy('count', ascending=False)\n",
    "sorted_result_df.show()"
   ]
  },
  {
   "cell_type": "code",
   "execution_count": 14,
   "id": "b9e1aaea",
   "metadata": {},
   "outputs": [
    {
     "name": "stdout",
     "output_type": "stream",
     "text": [
      "+---+---+-------+------+---------+----------+\n",
      "|wid|age|country|gender|  marital|parenthood|\n",
      "+---+---+-------+------+---------+----------+\n",
      "|  9| 61|    USA|     f|  married|         y|\n",
      "| 48| 57|    USA|     f|  married|         n|\n",
      "| 62|  3|    IND|     m|   single|         n|\n",
      "|109| 65|    USA|     m|  married|         y|\n",
      "|113| 59|    USA|     f|   single|         n|\n",
      "|121| 57|    USA|     f| divorced|         y|\n",
      "|150| 69|    USA|     m|  married|         y|\n",
      "|170| 68|    USA|     f|separated|         y|\n",
      "|252| 56|    USA|     f|   single|         n|\n",
      "|276| 68|    USA|     m|  married|         y|\n",
      "|290| 62|    USA|     f|  married|         y|\n",
      "|291| 70|    USA|     m|  married|         y|\n",
      "|310| 83|    USA|     m|  married|         y|\n",
      "|315| 74|    USA|     f|  married|         y|\n",
      "|331| 61|    USA|     f|  married|         n|\n",
      "|383| 66|    USA|     m|  married|         y|\n",
      "|389| 61|    USA|     f|  married|         y|\n",
      "|461| 61|    USA|     f|  married|         y|\n",
      "|474| 58|    USA|     f|  married|         y|\n",
      "|514| 62|    URY|     m|   single|         n|\n",
      "+---+---+-------+------+---------+----------+\n",
      "only showing top 20 rows\n",
      "\n"
     ]
    }
   ],
   "source": [
    "# Check for outliers\n",
    "column_name = 'age'  # Replace with the actual column name\n",
    "\n",
    "# Calculate quartiles\n",
    "q1 = df_demog.approxQuantile(column_name, [0.25], 0.01)[0]\n",
    "q3 = df_demog.approxQuantile(column_name, [0.75], 0.01)[0]\n",
    "\n",
    "# Calculate the IQR\n",
    "iqr = q3 - q1\n",
    "\n",
    "# Define lower and upper bounds\n",
    "lower_bound = q1 - 1.5 * iqr\n",
    "upper_bound = q3 + 1.5 * iqr\n",
    "\n",
    "# Identify outliers\n",
    "outliers = df_demog.filter((col(column_name) < lower_bound) | (col(column_name) > upper_bound))\n",
    "\n",
    "# Show the outliers\n",
    "outliers.show()"
   ]
  },
  {
   "cell_type": "code",
   "execution_count": 15,
   "id": "b99b8c27",
   "metadata": {},
   "outputs": [
    {
     "data": {
      "text/plain": [
       "498"
      ]
     },
     "execution_count": 15,
     "metadata": {},
     "output_type": "execute_result"
    }
   ],
   "source": [
    "outliers.count()"
   ]
  },
  {
   "cell_type": "code",
   "execution_count": 16,
   "id": "237cdb75",
   "metadata": {},
   "outputs": [
    {
     "name": "stdout",
     "output_type": "stream",
     "text": [
      "lower_bound: 7.0\n",
      "upper_bound: 55.0\n"
     ]
    }
   ],
   "source": [
    "print('lower_bound:', lower_bound)\n",
    "print('upper_bound:', upper_bound)"
   ]
  },
  {
   "cell_type": "code",
   "execution_count": 17,
   "id": "c7b254c8",
   "metadata": {},
   "outputs": [
    {
     "data": {
      "text/plain": [
       "10191"
      ]
     },
     "execution_count": 17,
     "metadata": {},
     "output_type": "execute_result"
    }
   ],
   "source": [
    "# Filter the DataFrame to exclude outliers\n",
    "outlier_cleaned_demog_df = df_demog.filter((col(column_name) >= lower_bound) & (col(column_name) <= upper_bound))\n",
    "\n",
    "outlier_cleaned_demog_df.count()"
   ]
  },
  {
   "cell_type": "code",
   "execution_count": 18,
   "id": "4525d46b",
   "metadata": {},
   "outputs": [
    {
     "data": {
      "image/png": "[encoded data removed]",
      "text/plain": [
       "<Figure size 864x432 with 1 Axes>"
      ]
     },
     "metadata": {
      "needs_background": "light"
     },
     "output_type": "display_data"
    }
   ],
   "source": [
    "column_name = 'age'\n",
    "\n",
    "# Extract the column data\n",
    "age_data = outlier_cleaned_demog_df.select(column_name).rdd.flatMap(lambda x: x).collect()\n",
    "\n",
    "# Create a histogram\n",
    "plt.figure(figsize=(12, 6))\n",
    "n, bins, patches = plt.hist(age_data, bins=25, edgecolor='k', alpha=0.7)\n",
    "\n",
    "# Add labels and title\n",
    "plt.xlabel(column_name)\n",
    "plt.ylabel('Frequency')\n",
    "plt.title(f'{column_name} Distribution (After Removing Outliers)')\n",
    "\n",
    "# Customize x-tick labels\n",
    "plt.xticks(bins, [str(int(b)) for b in bins])\n",
    "\n",
    "# Display the plot\n",
    "plt.show()"
   ]
  },
  {
   "cell_type": "code",
   "execution_count": 19,
   "id": "996bd45a",
   "metadata": {},
   "outputs": [
    {
     "name": "stdout",
     "output_type": "stream",
     "text": [
      "root\n",
      " |-- wid: integer (nullable = true)\n",
      " |-- age: integer (nullable = true)\n",
      " |-- country: string (nullable = true)\n",
      " |-- gender: string (nullable = true)\n",
      " |-- marital: string (nullable = true)\n",
      " |-- parenthood: string (nullable = true)\n",
      "\n",
      "root\n",
      " |-- wid: integer (nullable = true)\n",
      " |-- predicted_category: string (nullable = true)\n",
      "\n",
      "+----+---+-------+------+--------+----------+------------------+\n",
      "| wid|age|country|gender| marital|parenthood|predicted_category|\n",
      "+----+---+-------+------+--------+----------+------------------+\n",
      "|2053| 35|    USA|     m|  single|         n|         affection|\n",
      "|   2| 29|    IND|     m| married|         y|         affection|\n",
      "|1936| 30|    USA|     f| married|         y|          exercise|\n",
      "| 206| 28|    DNK|     f| married|         n|           bonding|\n",
      "|6227| 55|    USA|     f|divorced|         y|         affection|\n",
      "|  45| 23|    IND|     m|  single|         n|           leisure|\n",
      "| 195| 30|    USA|     m|  single|         n|       achievement|\n",
      "| 740| 23|    IND|     m|  single|         n|         affection|\n",
      "|   3| 25|    IND|     m|  single|         n|  enjoy_the_moment|\n",
      "|4833| 41|    USA|     f| married|         y|         affection|\n",
      "|7334| 37|    USA|     m|  single|         y|           leisure|\n",
      "|  78| 28|    USA|     f| married|         y|          exercise|\n",
      "|  21| 29|    IND|     m|  single|         y|           bonding|\n",
      "|   8| 29|    VNM|     m|  single|         n|       achievement|\n",
      "| 586| 28|    IND|     f|  single|         y|  enjoy_the_moment|\n",
      "| 489| 39|    IND|     m| married|         y|         affection|\n",
      "| 976| 25|    KWT|     f| married|         y|           bonding|\n",
      "|3972| 28|    USA|     m|  single|         n|       achievement|\n",
      "|  14| 25|    IND|     m| married|         y|           bonding|\n",
      "|1230| 32|    USA|     f|  single|         n|         affection|\n",
      "+----+---+-------+------+--------+----------+------------------+\n",
      "only showing top 20 rows\n",
      "\n"
     ]
    },
    {
     "data": {
      "text/plain": [
       "100082"
      ]
     },
     "execution_count": 19,
     "metadata": {},
     "output_type": "execute_result"
    }
   ],
   "source": [
    "# Data Integration\n",
    "\n",
    "df_demog.printSchema()\n",
    "df_happy.printSchema()\n",
    "\n",
    "# Select the columns to keep in the resulting DataFrame\n",
    "selected_demog = df_demog.select('wid', 'age', 'country', 'gender', 'marital', 'parenthood')\n",
    "selected_happy = df_happy.select('wid', 'predicted_category')\n",
    "\n",
    "# Perform an inner join on the 'wid' column\n",
    "merged_df = selected_demog.join(selected_happy, 'wid', 'inner')\n",
    "\n",
    "# Show the resulting merged DataFrame\n",
    "merged_df.show()\n",
    "merged_df.count()"
   ]
  },
  {
   "cell_type": "code",
   "execution_count": 20,
   "id": "1c666424",
   "metadata": {},
   "outputs": [
    {
     "data": {
      "image/png": "[encoded data removed]",
      "text/plain": [
       "<Figure size 864x432 with 1 Axes>"
      ]
     },
     "metadata": {
      "needs_background": "light"
     },
     "output_type": "display_data"
    }
   ],
   "source": [
    "# Extract the 'wid' column as a list\n",
    "wid_values = merged_df.select('wid').rdd.flatMap(lambda x: x).collect()\n",
    "\n",
    "# Create a histogram to visualize the distribution of 'wid'\n",
    "plt.figure(figsize=(12, 6))\n",
    "plt.hist(wid_values, bins=80, edgecolor='k', alpha=0.7)\n",
    "\n",
    "# Add labels and title\n",
    "plt.xlabel('wid')\n",
    "plt.ylabel('Frequency')\n",
    "plt.title('Distribution of wid')\n",
    "\n",
    "# Display the plot\n",
    "plt.show()"
   ]
  },
  {
   "cell_type": "code",
   "execution_count": 21,
   "id": "1434aa37",
   "metadata": {},
   "outputs": [
    {
     "name": "stdout",
     "output_type": "stream",
     "text": [
      "+---+-----+\n",
      "|wid|count|\n",
      "+---+-----+\n",
      "|  4|   96|\n",
      "| 18|   96|\n",
      "| 54|   93|\n",
      "| 31|   90|\n",
      "|  8|   90|\n",
      "|  1|   90|\n",
      "|  9|   87|\n",
      "| 11|   87|\n",
      "|  5|   84|\n",
      "|  3|   84|\n",
      "| 37|   84|\n",
      "| 10|   84|\n",
      "| 74|   84|\n",
      "|  2|   84|\n",
      "| 28|   84|\n",
      "| 33|   84|\n",
      "| 36|   84|\n",
      "| 40|   84|\n",
      "| 85|   81|\n",
      "| 44|   81|\n",
      "+---+-----+\n",
      "only showing top 20 rows\n",
      "\n"
     ]
    }
   ],
   "source": [
    "from pyspark.sql.functions import count\n",
    "\n",
    "# Group by 'wid' and count occurrences\n",
    "wid_counts = merged_df.groupBy('wid').agg(count('*').alias('count'))\n",
    "\n",
    "# Order by count in descending order to show from most frequent\n",
    "wid_counts = wid_counts.orderBy('count', ascending=False)\n",
    "\n",
    "# Show the resulting DataFrame\n",
    "wid_counts.show()"
   ]
  },
  {
   "cell_type": "code",
   "execution_count": 22,
   "id": "3f094d84",
   "metadata": {},
   "outputs": [
    {
     "name": "stdout",
     "output_type": "stream",
     "text": [
      "+----+-----+\n",
      "| wid|count|\n",
      "+----+-----+\n",
      "|2057|   10|\n",
      "|2327|   10|\n",
      "|2204|   10|\n",
      "|1322|    9|\n",
      "|1675|    9|\n",
      "|2821|    9|\n",
      "|2572|    9|\n",
      "|3220|    9|\n",
      "|2656|    9|\n",
      "|2142|    9|\n",
      "|1787|    9|\n",
      "|2659|    9|\n",
      "|3149|    9|\n",
      "|3179|    9|\n",
      "|2999|    9|\n",
      "|2833|    9|\n",
      "|2914|    9|\n",
      "|3175|    9|\n",
      "|3242|    9|\n",
      "|2563|    9|\n",
      "+----+-----+\n",
      "only showing top 20 rows\n",
      "\n"
     ]
    }
   ],
   "source": [
    "# Calculate IQR for 'wid' counts\n",
    "q1 = wid_counts.approxQuantile('count', [0.25], 0.01)[0]\n",
    "q3 = wid_counts.approxQuantile('count', [0.75], 0.01)[0]\n",
    "iqr = q3 - q1\n",
    "\n",
    "# Define lower and upper bounds for potential outliers\n",
    "lower_bound = q1 - 1.5 * iqr\n",
    "upper_bound = q3 + 1.5 * iqr\n",
    "\n",
    "# Filter 'wid' counts to exclude outliers\n",
    "outlier_filtered_wid_counts = wid_counts.filter((wid_counts['count'] >= lower_bound) & (wid_counts['count'] <= upper_bound))\n",
    "\n",
    "# Show the resulting DataFrame without outliers\n",
    "outlier_filtered_wid_counts.orderBy('count', ascending=False)\n",
    "outlier_filtered_wid_counts.show()"
   ]
  },
  {
   "cell_type": "code",
   "execution_count": 23,
   "id": "6f22dd4f",
   "metadata": {},
   "outputs": [
    {
     "data": {
      "image/png": "[encoded data removed]",
      "text/plain": [
       "<Figure size 864x432 with 1 Axes>"
      ]
     },
     "metadata": {
      "needs_background": "light"
     },
     "output_type": "display_data"
    }
   ],
   "source": [
    "# Extract the 'wid' column as a list\n",
    "wid_values = outlier_filtered_wid_counts.select('wid').rdd.flatMap(lambda x: x).collect()\n",
    "\n",
    "# Create a histogram to visualize the distribution of 'wid'\n",
    "plt.figure(figsize=(12, 6))\n",
    "plt.hist(wid_values, bins=80, edgecolor='k', alpha=0.7)\n",
    "\n",
    "# Add labels and title\n",
    "plt.xlabel('wid')\n",
    "plt.ylabel('Frequency')\n",
    "plt.title('Distribution of wid')\n",
    "\n",
    "# Display the plot\n",
    "plt.show()"
   ]
  },
  {
   "cell_type": "code",
   "execution_count": 24,
   "id": "194242bb",
   "metadata": {},
   "outputs": [
    {
     "data": {
      "text/plain": [
       "8586"
      ]
     },
     "execution_count": 24,
     "metadata": {},
     "output_type": "execute_result"
    }
   ],
   "source": [
    "outlier_filtered_wid_counts.count()"
   ]
  },
  {
   "cell_type": "code",
   "execution_count": 25,
   "id": "10dd391c",
   "metadata": {},
   "outputs": [
    {
     "data": {
      "text/plain": [
       "100082"
      ]
     },
     "execution_count": 25,
     "metadata": {},
     "output_type": "execute_result"
    }
   ],
   "source": [
    "merged_df.count()"
   ]
  },
  {
   "cell_type": "code",
   "execution_count": 26,
   "id": "ede5484b",
   "metadata": {},
   "outputs": [
    {
     "name": "stdout",
     "output_type": "stream",
     "text": [
      "+-----+---+-------+------+-------+----------+------------------+\n",
      "|  wid|age|country|gender|marital|parenthood|predicted_category|\n",
      "+-----+---+-------+------+-------+----------+------------------+\n",
      "| 2366| 30|    USA|     o| single|         n|          exercise|\n",
      "| 4101| 23|    USA|     m| single|         n|       achievement|\n",
      "| 2366| 30|    USA|     o| single|         n|  enjoy_the_moment|\n",
      "| 4101| 23|    USA|     m| single|         n|       achievement|\n",
      "| 2366| 30|    USA|     o| single|         n|         affection|\n",
      "| 4101| 23|    USA|     m| single|         n|           bonding|\n",
      "| 7993| 23|    USA|     f| single|         n|         affection|\n",
      "| 7993| 23|    USA|     f| single|         n|       achievement|\n",
      "| 7993| 23|    USA|     f| single|         n|           bonding|\n",
      "| 1959| 36|    USA|     m|married|         y|       achievement|\n",
      "| 1959| 36|    USA|     m|married|         y|         affection|\n",
      "| 1959| 36|    USA|     m|married|         y|           leisure|\n",
      "|13289| 21|    USA|     m| single|         n|           leisure|\n",
      "|13289| 21|    USA|     m| single|         n|           leisure|\n",
      "|13289| 21|    USA|     m| single|         n|       achievement|\n",
      "| 6620| 36|    SGP|     m| single|         n|           leisure|\n",
      "| 6620| 36|    SGP|     m| single|         n|       achievement|\n",
      "| 6620| 36|    SGP|     m| single|         n|           leisure|\n",
      "|11748| 38|    USA|     f|married|         y|         affection|\n",
      "|11141| 28|    UMI|     m| single|         n|           bonding|\n",
      "+-----+---+-------+------+-------+----------+------------------+\n",
      "only showing top 20 rows\n",
      "\n"
     ]
    }
   ],
   "source": [
    "# Perform an inner join on the 'wid' column\n",
    "cleaned_merged_df = merged_df.join(outlier_filtered_wid_counts, 'wid', 'inner')\n",
    "\n",
    "# Select only the columns you want from the merged DataFrame\n",
    "selected_columns = ['wid', 'age', 'country', 'gender', 'marital', 'parenthood', 'predicted_category']\n",
    "cleaned_merged_df = cleaned_merged_df.select(selected_columns)\n",
    "\n",
    "# Show the resulting merged DataFrame\n",
    "cleaned_merged_df.show()"
   ]
  },
  {
   "cell_type": "code",
   "execution_count": 27,
   "id": "44c0f85a",
   "metadata": {},
   "outputs": [
    {
     "data": {
      "text/plain": [
       "33354"
      ]
     },
     "execution_count": 27,
     "metadata": {},
     "output_type": "execute_result"
    }
   ],
   "source": [
    "cleaned_merged_df.count()"
   ]
  },
  {
   "cell_type": "code",
   "execution_count": null,
   "id": "de00ef06",
   "metadata": {},
   "outputs": [],
   "source": []
  }
 ],
 "metadata": {
  "kernelspec": {
   "display_name": "Python 3 (ipykernel)",
   "language": "python",
   "name": "python3"
  },
  "language_info": {
   "codemirror_mode": {
    "name": "ipython",
    "version": 3
   },
   "file_extension": ".py",
   "mimetype": "text/x-python",
   "name": "python",
   "nbconvert_exporter": "python",
   "pygments_lexer": "ipython3",
   "version": "3.10.12"
  }
 },
 "nbformat": 4,
 "nbformat_minor": 5
}

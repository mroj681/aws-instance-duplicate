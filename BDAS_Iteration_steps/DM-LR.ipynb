{
 "cells": [
  {
   "cell_type": "code",
   "execution_count": 1,
   "id": "c4423f36",
   "metadata": {},
   "outputs": [
    {
     "name": "stderr",
     "output_type": "stream",
     "text": [
      "WARNING: An illegal reflective access operation has occurred\n",
      "WARNING: Illegal reflective access by org.apache.spark.unsafe.Platform (file:/home/ubuntu/spark-3.2.1-bin-hadoop2.7/jars/spark-unsafe_2.12-3.2.1.jar) to constructor java.nio.DirectByteBuffer(long,int)\n",
      "WARNING: Please consider reporting this to the maintainers of org.apache.spark.unsafe.Platform\n",
      "WARNING: Use --illegal-access=warn to enable warnings of further illegal reflective access operations\n",
      "WARNING: All illegal access operations will be denied in a future release\n",
      "Using Spark's default log4j profile: org/apache/spark/log4j-defaults.properties\n",
      "Setting default log level to \"WARN\".\n",
      "To adjust logging level use sc.setLogLevel(newLevel). For SparkR, use setLogLevel(newLevel).\n",
      "23/10/12 02:22:10 WARN NativeCodeLoader: Unable to load native-hadoop library for your platform... using builtin-java classes where applicable\n"
     ]
    }
   ],
   "source": [
    "import findspark\n",
    "findspark.init('/home/ubuntu/spark-3.2.1-bin-hadoop2.7')\n",
    "import pyspark\n",
    "from pyspark.sql import SparkSession\n",
    "spark = SparkSession.builder.appName('DM-LR').getOrCreate()"
   ]
  },
  {
   "cell_type": "code",
   "execution_count": 2,
   "id": "755e2cd7",
   "metadata": {},
   "outputs": [],
   "source": [
    "# Load data. \n",
    "data = spark.read.csv('BDAS_Iteration_Dataset/final_df.csv',inferSchema=True,header=True)\n",
    "\n",
    "# Load Trained Model Logistic Regression\n",
    "from pyspark.ml.classification import LogisticRegressionModel\n",
    "trained_LR_model = LogisticRegressionModel.load(\"LogisticRegression_model\")"
   ]
  },
  {
   "cell_type": "code",
   "execution_count": 3,
   "id": "4019bb70",
   "metadata": {},
   "outputs": [
    {
     "name": "stdout",
     "output_type": "stream",
     "text": [
      "+-----+-------------+\n",
      "|label|     features|\n",
      "+-----+-------------+\n",
      "|  0.0|[0.0,1.0,1.0]|\n",
      "|  0.0|[0.0,1.0,1.0]|\n",
      "|  0.0|    (3,[],[])|\n",
      "|  0.0|[0.0,1.0,1.0]|\n",
      "|  0.0|[0.0,1.0,1.0]|\n",
      "|  0.0|[0.0,1.0,1.0]|\n",
      "|  0.0|[0.0,1.0,1.0]|\n",
      "|  0.0|    (3,[],[])|\n",
      "|  0.0|    (3,[],[])|\n",
      "|  0.0|[1.0,0.0,0.0]|\n",
      "|  0.0|[0.0,1.0,1.0]|\n",
      "|  0.0|[0.0,1.0,1.0]|\n",
      "|  0.0|[0.0,1.0,1.0]|\n",
      "|  0.0|    (3,[],[])|\n",
      "|  0.0|    (3,[],[])|\n",
      "|  0.0|    (3,[],[])|\n",
      "|  0.0|[0.0,1.0,0.0]|\n",
      "|  0.0|[0.0,1.0,1.0]|\n",
      "|  0.0|[0.0,0.0,1.0]|\n",
      "|  0.0|    (3,[],[])|\n",
      "+-----+-------------+\n",
      "only showing top 20 rows\n",
      "\n"
     ]
    }
   ],
   "source": [
    "from pyspark.ml.feature import StringIndexer, VectorAssembler\n",
    "from pyspark.ml import Pipeline\n",
    "\n",
    "# Create StringIndexers for categorical predictor variables\n",
    "gender_indexer = StringIndexer(inputCol=\"gender\", outputCol=\"gender_index\")\n",
    "marital_indexer = StringIndexer(inputCol=\"marital\", outputCol=\"marital_index\")\n",
    "parenthood_indexer = StringIndexer(inputCol=\"parenthood\", outputCol=\"parenthood_index\")\n",
    "\n",
    "# Create a StringIndexer for the target variable\n",
    "target_indexer = StringIndexer(inputCol=\"predicted_category\", outputCol=\"label\")\n",
    "\n",
    "# Assemble the predictor variables into a single features column\n",
    "assembler = VectorAssembler(\n",
    "    inputCols=[\"gender_index\", \"marital_index\", \"parenthood_index\"],\n",
    "    outputCol=\"features\"\n",
    ")\n",
    "\n",
    "# Define a pipeline to execute the transformations\n",
    "pipeline = Pipeline(stages=[gender_indexer, marital_indexer, parenthood_indexer, target_indexer, assembler])\n",
    "\n",
    "# Fit and transform the data using the pipeline\n",
    "model = pipeline.fit(data)\n",
    "data = model.transform(data)\n",
    "\n",
    "# Select the relevant columns for your machine learning model\n",
    "final_data = data.select(\"label\", \"features\")\n",
    "\n",
    "# Show the first few rows of the final_data DataFrame\n",
    "final_data.show()"
   ]
  },
  {
   "cell_type": "code",
   "execution_count": 5,
   "id": "ba4be752",
   "metadata": {},
   "outputs": [
    {
     "name": "stdout",
     "output_type": "stream",
     "text": [
      "            Feature  Coefficient\n",
      "0      gender_index     0.560120\n",
      "1     marital_index     0.443305\n",
      "2  parenthood_index     0.355650\n",
      "0         Intercept    -2.036483\n"
     ]
    },
    {
     "name": "stderr",
     "output_type": "stream",
     "text": [
      "/tmp/ipykernel_18123/3331258908.py:18: FutureWarning: The frame.append method is deprecated and will be removed from pandas in a future version. Use pandas.concat instead.\n",
      "  coefficients_df = coefficients_df.append(intercept_row)\n"
     ]
    }
   ],
   "source": [
    "import pandas as pd\n",
    "\n",
    "# Access the coefficients from the loaded model\n",
    "coefficients = trained_LR_model.coefficients\n",
    "intercept = trained_LR_model.intercept\n",
    "\n",
    "# Assuming you have a list of feature names\n",
    "feature_names = [\"gender_index\", \"marital_index\", \"parenthood_index\"]\n",
    "\n",
    "# Create a Pandas DataFrame for coefficients and feature names\n",
    "coefficients_df = pd.DataFrame({\n",
    "    'Feature': feature_names,\n",
    "    'Coefficient': coefficients\n",
    "})\n",
    "\n",
    "# Add an intercept row for the intercept term\n",
    "intercept_row = pd.DataFrame({'Feature': ['Intercept'], 'Coefficient': [intercept]})\n",
    "coefficients_df = coefficients_df.append(intercept_row)\n",
    "\n",
    "# Display the coefficients DataFrame\n",
    "print(coefficients_df)\n"
   ]
  },
  {
   "cell_type": "code",
   "execution_count": null,
   "id": "fe39a141",
   "metadata": {},
   "outputs": [],
   "source": []
  }
 ],
 "metadata": {
  "kernelspec": {
   "display_name": "Python 3 (ipykernel)",
   "language": "python",
   "name": "python3"
  },
  "language_info": {
   "codemirror_mode": {
    "name": "ipython",
    "version": 3
   },
   "file_extension": ".py",
   "mimetype": "text/x-python",
   "name": "python",
   "nbconvert_exporter": "python",
   "pygments_lexer": "ipython3",
   "version": "3.10.12"
  }
 },
 "nbformat": 4,
 "nbformat_minor": 5
}

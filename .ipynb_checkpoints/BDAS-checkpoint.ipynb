{
 "cells": [
  {
   "cell_type": "code",
   "execution_count": 1,
   "id": "638616fb",
   "metadata": {},
   "outputs": [
    {
     "name": "stderr",
     "output_type": "stream",
     "text": [
      "WARNING: An illegal reflective access operation has occurred\n",
      "WARNING: Illegal reflective access by org.apache.spark.unsafe.Platform (file:/home/ubuntu/spark-3.2.1-bin-hadoop2.7/jars/spark-unsafe_2.12-3.2.1.jar) to constructor java.nio.DirectByteBuffer(long,int)\n",
      "WARNING: Please consider reporting this to the maintainers of org.apache.spark.unsafe.Platform\n",
      "WARNING: Use --illegal-access=warn to enable warnings of further illegal reflective access operations\n",
      "WARNING: All illegal access operations will be denied in a future release\n",
      "Using Spark's default log4j profile: org/apache/spark/log4j-defaults.properties\n",
      "Setting default log level to \"WARN\".\n",
      "To adjust logging level use sc.setLogLevel(newLevel). For SparkR, use setLogLevel(newLevel).\n",
      "23/10/10 04:36:17 WARN NativeCodeLoader: Unable to load native-hadoop library for your platform... using builtin-java classes where applicable\n"
     ]
    }
   ],
   "source": [
    "import findspark\n",
    "findspark.init('/home/ubuntu/spark-3.2.1-bin-hadoop2.7')\n",
    "import pyspark\n",
    "from pyspark.sql import SparkSession\n",
    "spark = SparkSession.builder.appName('BDAS').getOrCreate()"
   ]
  },
  {
   "cell_type": "code",
   "execution_count": null,
   "id": "3add0265",
   "metadata": {},
   "outputs": [],
   "source": [
    "#BU: Predict what individual values as happiness based on demographic attribute"
   ]
  },
  {
   "cell_type": "code",
   "execution_count": 4,
   "id": "ca4d08e8",
   "metadata": {},
   "outputs": [],
   "source": [
    "#Read in the data\n",
    "df_demog=spark.read.csv('demographic.csv', header=True)\n",
    "df_happy=spark.read.csv('cleaned_hm.csv', header=True)"
   ]
  },
  {
   "cell_type": "code",
   "execution_count": 5,
   "id": "bb3d7362",
   "metadata": {},
   "outputs": [
    {
     "name": "stdout",
     "output_type": "stream",
     "text": [
      "+---+----+-------+------+--------+----------+\n",
      "|wid| age|country|gender| marital|parenthood|\n",
      "+---+----+-------+------+--------+----------+\n",
      "|  1|37.0|    USA|     m| married|         y|\n",
      "|  2|29.0|    IND|     m| married|         y|\n",
      "|  3|  25|    IND|     m|  single|         n|\n",
      "|  4|  32|    USA|     m| married|         y|\n",
      "|  5|  29|    USA|     m| married|         y|\n",
      "|  6|  35|    IND|     m| married|         y|\n",
      "|  7|  34|    USA|     m| married|         y|\n",
      "|  8|  29|    VNM|     m|  single|         n|\n",
      "|  9|  61|    USA|     f| married|         y|\n",
      "| 10|  27|    USA|     m|  single|         n|\n",
      "| 11|45.0|    USA|     m|divorced|         n|\n",
      "| 12|  25|    USA|     f|  single|         n|\n",
      "| 13|45.0|    IND|     m| married|         y|\n",
      "| 14|25.0|    IND|     m| married|         y|\n",
      "| 15|  27|    USA|     m| married|         y|\n",
      "| 16|35.0|    USA|     m|  single|         n|\n",
      "| 17|30.0|    USA|     m|  single|         n|\n",
      "| 18|  30|    USA|     m|  single|         n|\n",
      "| 19|  29|    USA|     m| married|         n|\n",
      "| 20|  40|    USA|     m| married|         y|\n",
      "+---+----+-------+------+--------+----------+\n",
      "only showing top 20 rows\n",
      "\n",
      "+--------------------+----+-----------------+--------------------+--------------------+--------+------------+---------------------+------------------+\n",
      "|                hmid| wid|reflection_period|         original_hm|          cleaned_hm|modified|num_sentence|ground_truth_category|predicted_category|\n",
      "+--------------------+----+-----------------+--------------------+--------------------+--------+------------+---------------------+------------------+\n",
      "|               27673|2053|              24h|I went on a succe...|I went on a succe...|    True|           1|                 null|         affection|\n",
      "|               27674|   2|              24h|I was happy when ...|I was happy when ...|    True|           1|                 null|         affection|\n",
      "|               27675|1936|              24h|I went to the gym...|I went to the gym...|    True|           1|                 null|          exercise|\n",
      "|               27676| 206|              24h|We had a serious ...|We had a serious ...|    True|           2|              bonding|           bonding|\n",
      "|               27677|6227|              24h|I went with grand...|                null|    null|        null|                 null|              null|\n",
      "|\",\"I went with gr...|null|             null|                null|                null|    null|        null|                 null|              null|\n",
      "|  ,True,1,,affection|null|             null|                null|                null|    null|        null|                 null|              null|\n",
      "|               27678|  45|              24h|I meditated last ...|I meditated last ...|    True|           1|              leisure|           leisure|\n",
      "|               27679| 195|              24h|I made a new reci...|I made a new reci...|    True|           1|                 null|       achievement|\n",
      "|               27680| 740|              24h|I got gift from m...|I got gift from m...|    True|           1|                 null|         affection|\n",
      "|               27681|   3|              24h|YESTERDAY MY MOMS...|YESTERDAY MY MOMS...|    True|           1|                 null|  enjoy_the_moment|\n",
      "|               27682|4833|              24h|Watching cupcake ...|Watching cupcake ...|    True|           1|                 null|         affection|\n",
      "|               27683|7334|              24h|I came in 3rd pla...|I came in 3rd pla...|    True|           1|                 null|           leisure|\n",
      "|               27684|  78|              24h|I completed my 5 ...|I completed my 5 ...|    True|           2|                 null|          exercise|\n",
      "|               27685|  21|              24h|went to movies wi...|went to movies wi...|    True|           1|                 null|           bonding|\n",
      "|               27686|   8|              24h|I was shorting Go...|I was shorting Go...|    True|           1|                 null|       achievement|\n",
      "|               27687| 586|              24h|Hearing Songs It ...|Hearing Songs It ...|   False|           2|                 null|  enjoy_the_moment|\n",
      "|               27688| 489|              24h|My son performed ...|My son performed ...|    True|           1|                 null|         affection|\n",
      "|               27689| 976|              24h|I helped my neigh...|I helped my neigh...|    True|           1|                 null|           bonding|\n",
      "|               27690|3972|              24h|Managed to get th...|Managed to get th...|    True|           1|                 null|       achievement|\n",
      "+--------------------+----+-----------------+--------------------+--------------------+--------+------------+---------------------+------------------+\n",
      "only showing top 20 rows\n",
      "\n"
     ]
    }
   ],
   "source": [
    "df_demog.show()\n",
    "df_happy.show()"
   ]
  },
  {
   "cell_type": "code",
   "execution_count": null,
   "id": "8a517210",
   "metadata": {},
   "outputs": [],
   "source": []
  }
 ],
 "metadata": {
  "kernelspec": {
   "display_name": "Python 3 (ipykernel)",
   "language": "python",
   "name": "python3"
  },
  "language_info": {
   "codemirror_mode": {
    "name": "ipython",
    "version": 3
   },
   "file_extension": ".py",
   "mimetype": "text/x-python",
   "name": "python",
   "nbconvert_exporter": "python",
   "pygments_lexer": "ipython3",
   "version": "3.10.4"
  }
 },
 "nbformat": 4,
 "nbformat_minor": 5
}
